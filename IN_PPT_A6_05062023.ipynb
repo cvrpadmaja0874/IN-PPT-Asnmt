{
  "nbformat": 4,
  "nbformat_minor": 0,
  "metadata": {
    "colab": {
      "provenance": [],
      "authorship_tag": "ABX9TyP6Tq0/gDdBKJ2vzZT1AGPa",
      "include_colab_link": true
    },
    "kernelspec": {
      "name": "python3",
      "display_name": "Python 3"
    },
    "language_info": {
      "name": "python"
    }
  },
  "cells": [
    {
      "cell_type": "markdown",
      "metadata": {
        "id": "view-in-github",
        "colab_type": "text"
      },
      "source": [
        "<a href=\"https://colab.research.google.com/github/cvrpadmaja0874/IN-PPT-Asnmt/blob/main/IN_PPT_A6_05062023.ipynb\" target=\"_parent\"><img src=\"https://colab.research.google.com/assets/colab-badge.svg\" alt=\"Open In Colab\"/></a>"
      ]
    },
    {
      "cell_type": "markdown",
      "source": [
        "# **Question 1**\n",
        "\n",
        "A permutation perm of n + 1 integers of all the integers in the range [0, n] can be represented as a string s of length n where:\n",
        "\n",
        "- s[i] == 'I' if perm[i] < perm[i + 1], and\n",
        "- s[i] == 'D' if perm[i] > perm[i + 1].\n",
        "\n",
        "Given a string s, reconstruct the permutation perm and return it. If there are multiple valid permutations perm, return **any of them**.\n",
        "\n",
        "**Example 1:**\n",
        "\n",
        "**Input:** s = \"IDID\"\n",
        "\n",
        "**Output:**\n",
        "\n",
        "[0,4,1,3,2]"
      ],
      "metadata": {
        "id": "YmrRLjm8VZNR"
      }
    },
    {
      "cell_type": "code",
      "source": [
        "def diStringMatch(s):\n",
        "  i, n = 0, len(s)\n",
        "  ans = []\n",
        "  for c in s:\n",
        "    if c == 'I': \n",
        "      ans.append(i)\n",
        "      i+=1\n",
        "    else:\n",
        "      ans.append(n)\n",
        "      n-=1\n",
        "  ans.append(i)\n",
        "  return ans\n",
        "\n",
        "#Driver Code\n",
        "s = \"IDID\"\n",
        "print(diStringMatch(s))\n"
      ],
      "metadata": {
        "colab": {
          "base_uri": "https://localhost:8080/"
        },
        "id": "Ruf8Ky7SaFTS",
        "outputId": "a2da9f9a-c6f2-4ad1-9647-dd32bb3b7df1"
      },
      "execution_count": 2,
      "outputs": [
        {
          "output_type": "stream",
          "name": "stdout",
          "text": [
            "[0, 4, 1, 3, 2]\n"
          ]
        }
      ]
    },
    {
      "cell_type": "markdown",
      "source": [
        "# **Question 2**\n",
        "\n",
        "You are given an m x n integer matrix matrix with the following two properties:\n",
        "\n",
        "- Each row is sorted in non-decreasing order.\n",
        "- The first integer of each row is greater than the last integer of the previous row.\n",
        "\n",
        "Given an integer target, return true *if* target *is in* matrix *or* false *otherwise*.\n",
        "\n",
        "You must write a solution in O(log(m * n)) time complexity.\n",
        "\n",
        "**Example 1:**\n",
        "\n",
        "**Input:** matrix = [[1,3,5,7],[10,11,16,20],[23,30,34,60]], target = 3\n",
        "\n",
        "**Output:** true\n"
      ],
      "metadata": {
        "id": "C_fH0SaQVZA_"
      }
    },
    {
      "cell_type": "code",
      "source": [
        "def searchMatrix(matrix,target):\n",
        "  for row in matrix:\n",
        "    if row[-1] >= target:\n",
        "      return target in row\n",
        "  return False\n",
        "\n",
        "#Driver Code\n",
        "matrix = [[1,3,5,7],[10,11,16,20],[23,30,34,60]] \n",
        "target = 3\n",
        "print(searchMatrix(matrix,target))"
      ],
      "metadata": {
        "colab": {
          "base_uri": "https://localhost:8080/"
        },
        "id": "tqAh0xotapNa",
        "outputId": "cdb0afce-83eb-4570-e956-ce9049a238b2"
      },
      "execution_count": 3,
      "outputs": [
        {
          "output_type": "stream",
          "name": "stdout",
          "text": [
            "True\n"
          ]
        }
      ]
    },
    {
      "cell_type": "markdown",
      "source": [
        "# **Question 3**\n",
        "\n",
        "Given an array of integers arr, return *true if and only if it is a valid mountain array*.\n",
        "\n",
        "Recall that arr is a mountain array if and only if:\n",
        "\n",
        "- arr.length >= 3\n",
        "- There exists some i with 0 < i < arr.length - 1 such that:\n",
        "    - arr[0] < arr[1] < ... < arr[i - 1] < arr[i]\n",
        "    - arr[i] > arr[i + 1] > ... > arr[arr.length - 1]\n",
        "\n",
        "\n",
        "**Example 1:**\n",
        "\n",
        "**Input:** arr = [2,1]\n",
        "\n",
        "**Output:**\n",
        "\n",
        "false"
      ],
      "metadata": {
        "id": "2SWckZJ5VYdL"
      }
    },
    {
      "cell_type": "code",
      "source": [
        "def validMountainArray(arr):\n",
        "\tn = len(arr)\n",
        "\ti, j = 0, n-1\n",
        "\twhile i < n-1 and arr[i] > arr[i-1]:\n",
        "\t\ti += 1\n",
        "\ti += 1\n",
        "\twhile j > 0 and arr[j-1] > arr[j]:\n",
        "\t\tj -= 1\n",
        "\treturn i == j and i != n-1 and j != 0\n",
        "\n",
        "#Driver Code\n",
        "arr = [2,1]\n",
        "print(validMountainArray(arr))"
      ],
      "metadata": {
        "colab": {
          "base_uri": "https://localhost:8080/"
        },
        "id": "5tov7m9TbA34",
        "outputId": "d698da3f-2cc6-45e5-bd2e-58d5d28f8627"
      },
      "execution_count": 4,
      "outputs": [
        {
          "output_type": "stream",
          "name": "stdout",
          "text": [
            "False\n"
          ]
        }
      ]
    },
    {
      "cell_type": "markdown",
      "source": [
        "# **Question 4**\n",
        "Given a binary array nums, return *the maximum length of a contiguous subarray with an equal number of* 0 *and* 1.\n",
        "\n",
        "**Example 1:**\n",
        "\n",
        "**Input:** nums = [0,1]\n",
        "\n",
        "**Output:** 2\n",
        "\n",
        "**Explanation:**\n",
        "\n",
        "[0, 1] is the longest contiguous subarray with an equal number of 0 and 1."
      ],
      "metadata": {
        "id": "k-zoaqE6VYOQ"
      }
    },
    {
      "cell_type": "code",
      "source": [
        "def findMaxLength(nums):\n",
        "  count_dict = {}\n",
        "  count = 0\n",
        "  count_dict[0] = -1\n",
        "  maxi = 0\n",
        "  for i in range(len(nums)):\n",
        "    if nums[i] == 0:\n",
        "      count -= 1\n",
        "    if nums[i] == 1:\n",
        "      count += 1\n",
        "    if count in count_dict:\n",
        "      maxi = max(maxi, i-count_dict[count])\n",
        "    else:\n",
        "      count_dict[count] = i\n",
        "  return maxi\n",
        "\n",
        "#Driver Code\n",
        "nums = [0,1]\n",
        "print(findMaxLength(nums))"
      ],
      "metadata": {
        "colab": {
          "base_uri": "https://localhost:8080/"
        },
        "id": "6DOuqtgobLr0",
        "outputId": "3fb2f828-6cf0-4c69-ba7d-9211681b4a4a"
      },
      "execution_count": 5,
      "outputs": [
        {
          "output_type": "stream",
          "name": "stdout",
          "text": [
            "2\n"
          ]
        }
      ]
    },
    {
      "cell_type": "markdown",
      "source": [
        "# **Question 5**\n",
        "\n",
        "The **product sum** of two equal-length arrays a and b is equal to the sum of a[i] * b[i] for all 0 <= i < a.length (**0-indexed**).\n",
        "\n",
        "- For example, if a = [1,2,3,4] and b = [5,2,3,1], the **product sum** would be 1*5 + 2*2 + 3*3 + 4*1 = 22.\n",
        "\n",
        "Given two arrays nums1 and nums2 of length n, return *the **minimum product sum** if you are allowed to **rearrange** the **order** of the elements in* nums1.\n",
        "\n",
        "**Example 1:**\n",
        "\n",
        "**Input:** nums1 = [5,3,4,2], nums2 = [4,2,2,5]\n",
        "\n",
        "**Output:** 40\n",
        "\n",
        "**Explanation:**\n",
        "\n",
        "We can rearrange nums1 to become [3,5,4,2]. The product sum of [3,5,4,2] and [4,2,2,5] is 3*4 + 5*2 + 4*2 + 2*5 = 40."
      ],
      "metadata": {
        "id": "5gVwqaERVYK1"
      }
    },
    {
      "cell_type": "code",
      "source": [
        "def minProductSum(nums1,nums2):\n",
        "  nums1.sort()\n",
        "  nums2.sort()\n",
        "  n, res = len(nums1), 0\n",
        "  for i in range(n):\n",
        "    res += nums1[i] * nums2[n - i - 1]\n",
        "  return res\n",
        "\n",
        "#Driver Code\n",
        "nums1 = [5,3,4,2] \n",
        "nums2 = [4,2,2,5]\n",
        "\n",
        "print(minProductSum(nums1,nums2))\n"
      ],
      "metadata": {
        "colab": {
          "base_uri": "https://localhost:8080/"
        },
        "id": "sFSdcLr9dZKK",
        "outputId": "b00fac15-f62c-4305-a97e-83b4ca42f60b"
      },
      "execution_count": 6,
      "outputs": [
        {
          "output_type": "stream",
          "name": "stdout",
          "text": [
            "40\n"
          ]
        }
      ]
    },
    {
      "cell_type": "markdown",
      "source": [
        "# **Question 6**\n",
        "\n",
        "An integer array original is transformed into a **doubled** array changed by appending **twice the value** of every element in original, and then randomly **shuffling** the resulting array.\n",
        "\n",
        "Given an array changed, return original *if* changed *is a **doubled** array. If* changed *is not a **doubled** array, return an empty array. The elements in* original *may be returned in **any** order*.\n",
        "\n",
        "**Example 1:**\n",
        "\n",
        "**Input:** changed = [1,3,4,2,6,8]\n",
        "\n",
        "**Output:** [1,3,4]\n",
        "\n",
        "**Explanation:** One possible original array could be [1,3,4]:\n",
        "\n",
        "- Twice the value of 1 is 1 * 2 = 2.\n",
        "- Twice the value of 3 is 3 * 2 = 6.\n",
        "- Twice the value of 4 is 4 * 2 = 8.\n",
        "\n",
        "Other original arrays could be [4,3,1] or [3,1,4]."
      ],
      "metadata": {
        "id": "k7LLWpYNVYHy"
      }
    },
    {
      "cell_type": "code",
      "source": [
        "from collections import deque\n",
        "\n",
        "def findOriginalArray(changed):\n",
        "  if len(changed) % 2 == 1: \n",
        "    return []\n",
        "        \n",
        "  changed.sort()\n",
        "  res, stack = deque(), deque()\n",
        "        \n",
        "  for num in changed:\n",
        "    if stack and num == stack[0] * 2:\n",
        "      res.append(stack.popleft())\n",
        "    else:\n",
        "      stack.append(num)\n",
        "                    \n",
        "  return [] if stack else res\n",
        "\n",
        "#Driver Code\n",
        "changed = [1,3,4,2,6,8]\n",
        "print(findOriginalArray(changed))"
      ],
      "metadata": {
        "colab": {
          "base_uri": "https://localhost:8080/"
        },
        "id": "llchq43md0_p",
        "outputId": "6527656a-7cc4-4fc4-83d8-92713c52a249"
      },
      "execution_count": 1,
      "outputs": [
        {
          "output_type": "stream",
          "name": "stdout",
          "text": [
            "deque([1, 3, 4])\n"
          ]
        }
      ]
    },
    {
      "cell_type": "markdown",
      "source": [
        "# **Question 7**\n",
        "\n",
        "Given a positive integer n, generate an n x n matrix filled with elements from 1 to n2 in spiral order.\n",
        "\n",
        "**Input:** n = 3\n",
        "\n",
        "**Output:** [[1,2,3],[8,9,4],[7,6,5]]"
      ],
      "metadata": {
        "id": "MHXj6QDfVYE6"
      }
    },
    {
      "cell_type": "code",
      "source": [
        "def generateMatrix(n):\n",
        "  res = [[0] * n for _ in range(n)]\n",
        "        \n",
        "  def spiral(ele, start, n):\n",
        "    i, j = start, start    \n",
        "\n",
        "    for k in range(j, j + n): \n",
        "      res[i][k], ele = ele, ele + 1\n",
        "    for k in range(i + 1, i + n): \n",
        "      res[k][j + n - 1], ele = ele, ele + 1\n",
        "    for k in reversed(range(j, j + n - 1)): \n",
        "      res[i + n - 1][k], ele = ele, ele + 1\n",
        "    for k in reversed(range(i + 1, i + n - 1)): \n",
        "      res[k][j], ele = ele, ele + 1\n",
        "        \n",
        "  ele, start = 1, 0\n",
        "  while n > 0:\n",
        "    spiral(ele, start, n)\n",
        "    ele = ele + 4*(n - 1)\n",
        "    n, start = n - 2, start + 1\n",
        "            \n",
        "  return res\n",
        "\n",
        "# Driver Code\n",
        "n = 3\n",
        "print(generateMatrix(n))\n"
      ],
      "metadata": {
        "colab": {
          "base_uri": "https://localhost:8080/"
        },
        "id": "UsMrRwK5eLn7",
        "outputId": "a5a92a64-29df-4155-8331-c699405be2a2"
      },
      "execution_count": 9,
      "outputs": [
        {
          "output_type": "stream",
          "name": "stdout",
          "text": [
            "[[1, 2, 3], [8, 9, 4], [7, 6, 5]]\n"
          ]
        }
      ]
    },
    {
      "cell_type": "markdown",
      "source": [
        "# **Question 8**\n",
        "Given two sparse matrices mat1 of size m x k and mat2 of size k x n, return the result of mat1 x mat2. You may assume that multiplication is always possible.\n",
        "\n",
        "**Input:** mat1 = [[1,0,0],[-1,0,3]], mat2 = [[7,0,0],[0,0,0],[0,0,1]]\n",
        "\n",
        "**Output:**\n",
        "\n",
        "[[7,0,0],[-7,0,3]]"
      ],
      "metadata": {
        "id": "D44frcCdVYB9"
      }
    },
    {
      "cell_type": "code",
      "source": [
        "from collections import defaultdict\n",
        "def multiply(mat1,mat2):\n",
        "  r1, c1, c2 = len(mat1), len(mat1[0]), len(mat2[0])\n",
        "  res = [[0] * c2 for _ in range(r1)]\n",
        "  mp = defaultdict(list)\n",
        "  \n",
        "  for i in range(r1):\n",
        "    for j in range(c1):\n",
        "      if mat1[i][j] != 0:\n",
        "        mp[i].append(j)\n",
        "  for i in range(r1):\n",
        "    for j in range(c2):\n",
        "      for k in mp[i]:\n",
        "        res[i][j] += mat1[i][k] * mat2[k][j]\n",
        "  return res\n",
        "\n",
        "# Driver Code\n",
        "mat1 = [[1,0,0],[-1,0,3]]\n",
        "mat2 = [[7,0,0],[0,0,0],[0,0,1]]\n",
        "\n",
        "print(multiply(mat1,mat2))\n"
      ],
      "metadata": {
        "colab": {
          "base_uri": "https://localhost:8080/"
        },
        "id": "viAF7VwCeYIA",
        "outputId": "c1f9652a-9bd2-4ee7-f8f7-ad934460e70d"
      },
      "execution_count": 11,
      "outputs": [
        {
          "output_type": "stream",
          "name": "stdout",
          "text": [
            "[[7, 0, 0], [-7, 0, 3]]\n"
          ]
        }
      ]
    }
  ]
}