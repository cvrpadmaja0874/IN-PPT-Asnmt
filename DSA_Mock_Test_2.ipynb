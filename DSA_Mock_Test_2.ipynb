{
  "nbformat": 4,
  "nbformat_minor": 0,
  "metadata": {
    "colab": {
      "provenance": [],
      "authorship_tag": "ABX9TyMH9hWR64nWstn/dvpDh/d9",
      "include_colab_link": true
    },
    "kernelspec": {
      "name": "python3",
      "display_name": "Python 3"
    },
    "language_info": {
      "name": "python"
    }
  },
  "cells": [
    {
      "cell_type": "markdown",
      "metadata": {
        "id": "view-in-github",
        "colab_type": "text"
      },
      "source": [
        "<a href=\"https://colab.research.google.com/github/cvrpadmaja0874/IN-PPT-Asnmt/blob/main/DSA_Mock_Test_2.ipynb\" target=\"_parent\"><img src=\"https://colab.research.google.com/assets/colab-badge.svg\" alt=\"Open In Colab\"/></a>"
      ]
    },
    {
      "cell_type": "markdown",
      "source": [
        "# **DSA Mock Text - 2**\n",
        "**Question 1**\n",
        "\n",
        "Given a non-negative integer x, return the square root of x rounded down to the nearest integer. The returned integer should be non-negative as well. You must not use any built-in exponent function or operator.\n",
        "\n",
        " Example 1:\n",
        "Input: x = 4 Output: 2 Explanation: The square root of 4 is 2, so we return 2.\n",
        "Example 2:\n",
        "\n",
        "Input: x = 8 Output: 2 Explanation: The square root of 8 is 2.82842..., and since we round it down to the nearest integer, 2 is returned.\n",
        "Constraints:\n",
        "\n",
        "0 <= x <= 2^31 - 1"
      ],
      "metadata": {
        "id": "Uw7zLRrDOkEe"
      }
    },
    {
      "cell_type": "code",
      "execution_count": 3,
      "metadata": {
        "colab": {
          "base_uri": "https://localhost:8080/"
        },
        "id": "52kd1ObvOEk3",
        "outputId": "7ec60c52-e772-4682-9607-1116b8e3ca08"
      },
      "outputs": [
        {
          "output_type": "execute_result",
          "data": {
            "text/plain": [
              "2"
            ]
          },
          "metadata": {},
          "execution_count": 3
        }
      ],
      "source": [
        "def mySqrt(x):\n",
        "  if x == 0:\n",
        "    return 0\n",
        "  if x == 1:\n",
        "    return 1\n",
        "  for i in range(1,x+1):\n",
        "    if i*i > x:\n",
        "      return i-1\n",
        "# Driver Code\n",
        "x = 6\n",
        "mySqrt(6)"
      ]
    },
    {
      "cell_type": "markdown",
      "source": [
        "# **Question 2**\n",
        "You are given two non-empty linked lists representing two non-negative integers. The digits are stored in reverse order, and each of their nodes contains a single digit. Add the two numbers and return the sum as a linked list.\n",
        "\n",
        "You may assume the two numbers do not contain any leading zero, except the number 0 itself.\n",
        "\n",
        "\n",
        "Example 1:\n",
        "\n",
        "Input: l1 = [2,4,3], l2 = [5,6,4] Output: [7,0,8] Explanation: 342 + 465 = 807.\n",
        "\n",
        "Example 2:\n",
        "\n",
        "Input: l1 = [0], l2 = [0] Output: [0]\n",
        "\n",
        "Example 3:\n",
        "\n",
        "Input: l1 = [9,9,9,9,9,9,9], l2 = [9,9,9,9] Output: [8,9,9,9,0,0,0,1]"
      ],
      "metadata": {
        "id": "T0jDRTHoPZSl"
      }
    },
    {
      "cell_type": "code",
      "source": [
        "class Node:\n",
        "\tdef __init__(self, data):\n",
        "\t\tself.data = data\n",
        "\t\tself.next = None\n",
        "\n",
        "\n",
        "class LinkedList:\n",
        "\tdef __init__(self):\n",
        "\t\tself.head = None\n",
        "\n",
        "\tdef push(self, new_data):\n",
        "\t\tnew_node = Node(new_data)\n",
        "\t\tnew_node.next = self.head\n",
        "\t\tself.head = new_node\n",
        "\n",
        "\tdef addTwoLists(self, first, second):\n",
        "\t\tprev = None\n",
        "\t\ttemp = None\n",
        "\t\tcarry = 0\n",
        "\n",
        "\t\t# While both list exists\n",
        "\t\twhile(first is not None or\n",
        "\t\t\tsecond is not None):\n",
        "\n",
        "\t\t\tfdata = 0 if first is None else first.data\n",
        "\t\t\tsdata = 0 if second is None else second.data\n",
        "\t\t\tSum = carry + fdata + sdata\n",
        "\n",
        "\t\t\t# Update carry for next calculation\n",
        "\t\t\tcarry = 1 if Sum >= 10 else 0\n",
        "\n",
        "\t\t\t# Update sum if it is greater than 10\n",
        "\t\t\tSum = Sum if Sum < 10 else Sum % 10\n",
        "\n",
        "\t\t\t# Create a new node with sum as data\n",
        "\t\t\ttemp = Node(Sum)\n",
        "\n",
        "\t\t\tif self.head is None:\n",
        "\t\t\t\tself.head = temp\n",
        "\t\t\telse:\n",
        "\t\t\t\tprev.next = temp\n",
        "\n",
        "\t\t\tprev = temp\n",
        "\n",
        "\t\t\tif first is not None:\n",
        "\t\t\t\tfirst = first.next\n",
        "\t\t\tif second is not None:\n",
        "\t\t\t\tsecond = second.next\n",
        "\n",
        "\t\tif carry > 0:\n",
        "\t\t\ttemp.next = Node(carry)\n",
        "\n",
        "\tdef printList(self):\n",
        "\t\ttemp = self.head\n",
        "\t\twhile(temp):\n",
        "\t\t\tprint(temp.data, end = \" \")\n",
        "\t\t\ttemp = temp.next\n",
        "\n",
        "# Driver code\n",
        "first = LinkedList()\n",
        "second = LinkedList()\n",
        "\n",
        "l1 = [2,4,3]\n",
        "l2 = [5,6,4]\n",
        "\n",
        "for i in reversed(l1):\n",
        "  first.push(i)\n",
        "\n",
        "for i in reversed(l2):\n",
        "  second.push(i)\n",
        "\n",
        "print(\"First List is \",)\n",
        "first.printList()\n",
        "print()\n",
        "\n",
        "print(\"Second List is \",)\n",
        "second.printList()\n",
        "print()\n",
        "# Add the two lists\n",
        "res = LinkedList()\n",
        "res.addTwoLists(first.head, second.head)\n",
        "res.printList()\n"
      ],
      "metadata": {
        "colab": {
          "base_uri": "https://localhost:8080/"
        },
        "id": "u9VyPLAMVI2W",
        "outputId": "18996352-1763-4485-88f3-fe38e3bb69f2"
      },
      "execution_count": 20,
      "outputs": [
        {
          "output_type": "stream",
          "name": "stdout",
          "text": [
            "First List is \n",
            "2 4 3 \n",
            "Second List is \n",
            "5 6 4 \n",
            "7 0 8 "
          ]
        }
      ]
    }
  ]
}