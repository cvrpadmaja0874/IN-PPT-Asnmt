{
  "nbformat": 4,
  "nbformat_minor": 0,
  "metadata": {
    "colab": {
      "provenance": [],
      "authorship_tag": "ABX9TyOqeRZxbbTYYqJvu/4ZELO8",
      "include_colab_link": true
    },
    "kernelspec": {
      "name": "python3",
      "display_name": "Python 3"
    },
    "language_info": {
      "name": "python"
    }
  },
  "cells": [
    {
      "cell_type": "markdown",
      "metadata": {
        "id": "view-in-github",
        "colab_type": "text"
      },
      "source": [
        "<a href=\"https://colab.research.google.com/github/cvrpadmaja0874/IN-PPT-Asnmt/blob/main/IN_PPT_A11_13062023.ipynb\" target=\"_parent\"><img src=\"https://colab.research.google.com/assets/colab-badge.svg\" alt=\"Open In Colab\"/></a>"
      ]
    },
    {
      "cell_type": "markdown",
      "source": [
        "# **Question 1**\n",
        "\n",
        "Given a non-negative integer `x`, return *the square root of* `x` *rounded down to the nearest integer*. The returned integer should be **non-negative** as well.\n",
        "\n",
        "You **must not use** any built-in exponent function or operator.\n",
        "\n",
        "- For example, do not use `pow(x, 0.5)` in c++ or `x ** 0.5` in python.\n",
        "\n",
        "**Example 1:**\n",
        "\n",
        "```\n",
        "Input: x = 4\n",
        "Output: 2\n",
        "Explanation: The square root of 4 is 2, so we return 2.\n",
        "\n",
        "```\n",
        "\n",
        "**Example 2:**\n",
        "```\n",
        "Input: x = 8\n",
        "Output: 2\n",
        "Explanation: The square root of 8 is 2.82842..., and since we round it down to the nearest integer, 2 is returned.\n",
        "```\n",
        "\n"
      ],
      "metadata": {
        "id": "6FXUnEX2Bac9"
      }
    },
    {
      "cell_type": "code",
      "execution_count": null,
      "metadata": {
        "colab": {
          "base_uri": "https://localhost:8080/"
        },
        "id": "GsKHgUePBBn5",
        "outputId": "d9909a09-fc38-46e8-d5a4-73c9d34fd59c"
      },
      "outputs": [
        {
          "name": "stdout",
          "output_type": "stream",
          "text": [
            "8\n"
          ]
        },
        {
          "output_type": "execute_result",
          "data": {
            "text/plain": [
              "2"
            ]
          },
          "metadata": {},
          "execution_count": 2
        }
      ],
      "source": [
        "def mySqrt(x):\n",
        "  if (x == 0 or x == 1):\n",
        "        return x\n",
        "\n",
        "  start = 1\n",
        "  end = x//2\n",
        "\n",
        "  while (start <= end):\n",
        "    mid = (start + end) // 2\n",
        "\n",
        "    if (mid*mid == x):\n",
        "      return mid\n",
        "    if (mid * mid < x):\n",
        "      start = mid + 1\n",
        "      ans = mid\n",
        "    else:\n",
        "      end = mid-1\n",
        "\n",
        "  return ans\n",
        "\n",
        "#Driver code\n",
        "x = int(input())\n",
        "mySqrt(x)"
      ]
    },
    {
      "cell_type": "markdown",
      "source": [
        "# **Question 2**\n",
        "\n",
        "A peak element is an element that is strictly greater than its neighbors.\n",
        "\n",
        "Given a **0-indexed** integer array `nums`, find a peak element, and return its index. If the array contains multiple peaks, return the index to **any of the peaks**.\n",
        "\n",
        "You may imagine that `nums[-1] = nums[n] = -∞`. In other words, an element is always considered to be strictly greater than a neighbor that is outside the array.\n",
        "\n",
        "You must write an algorithm that runs in `O(log n)` time.\n",
        "\n",
        "**Example 1:**\n",
        "\n",
        "```\n",
        "Input: nums = [1,2,3,1]\n",
        "Output: 2\n",
        "Explanation: 3 is a peak element and your function should return the index number 2.\n",
        "```\n",
        "\n",
        "**Example 2:**\n",
        "```\n",
        "Input: nums = [1,2,1,3,5,6,4]\n",
        "Output: 5\n",
        "Explanation: Your function can return either index number 1 where the peak element is 2, or index number 5 where the peak element is 6.\n",
        "```"
      ],
      "metadata": {
        "id": "Hcr6dnhcB2GR"
      }
    },
    {
      "cell_type": "code",
      "source": [
        "def findPeakElement(nums):\n",
        "  n = len(nums)\n",
        "  l = 0;\n",
        "  h = n-1;\n",
        "\n",
        "  while( l < h ):\n",
        "    mid = (l+h)//2;\n",
        "\n",
        "    if( nums[mid] < nums[mid+1] ):\n",
        "      l = mid+1\n",
        "    else:\n",
        "      h = mid ;\n",
        "\n",
        "  return l;\n",
        "\n",
        "#driver Code\n",
        "nums = [1,2,1,3,5,6,4]\n",
        "findPeakElement(nums)"
      ],
      "metadata": {
        "colab": {
          "base_uri": "https://localhost:8080/"
        },
        "id": "4wUNW6YmH1WJ",
        "outputId": "fc6b52a2-bce5-49e0-c3fc-778814427833"
      },
      "execution_count": null,
      "outputs": [
        {
          "output_type": "execute_result",
          "data": {
            "text/plain": [
              "5"
            ]
          },
          "metadata": {},
          "execution_count": 4
        }
      ]
    },
    {
      "cell_type": "markdown",
      "source": [
        "# **Question 3**\n",
        "\n",
        "****\n",
        "\n",
        "Given an array `nums` containing `n` distinct numbers in the range `[0, n]`, return *the only number in the range that is missing from the array.*\n",
        "\n",
        "**Example 1:**\n",
        "\n",
        "```\n",
        "Input: nums = [3,0,1]\n",
        "Output: 2\n",
        "Explanation: n = 3 since there are 3 numbers, so all numbers are in the range [0,3]. 2 is the missing number in the range since it does not appear in nums.\n",
        "\n",
        "```\n",
        "\n",
        "**Example 2:**\n",
        "\n",
        "```\n",
        "Input: nums = [0,1]\n",
        "Output: 2\n",
        "Explanation: n = 2 since there are 2 numbers, so all numbers are in the range [0,2]. 2 is the missing number in the range since it does not appear in nums.\n",
        "\n",
        "```\n",
        "\n",
        "**Example 3:**\n",
        "```\n",
        "Input: nums = [9,6,4,2,3,5,7,0,1]\n",
        "Output: 8\n",
        "Explanation: n = 9 since there are 9 numbers, so all numbers are in the range [0,9]. 8 is the missing number in the range since it does not appear in nums.\n",
        "\n",
        "```\n"
      ],
      "metadata": {
        "id": "OcBppkVqDyqq"
      }
    },
    {
      "cell_type": "code",
      "source": [
        "def missingNumber(nums):\n",
        "  n = len(nums)\n",
        "  sum1 = int((n*(n+1))/2)\n",
        "  sum2 = 0\n",
        "  for i in nums:\n",
        "    sum2 += i\n",
        "  return(sum1-sum2)\n",
        "\n",
        "#Driver Code\n",
        "nums = [9,6,4,2,3,5,7,0,1]\n",
        "missingNumber(nums)"
      ],
      "metadata": {
        "colab": {
          "base_uri": "https://localhost:8080/"
        },
        "id": "apNscqMpIspf",
        "outputId": "077c8c41-60d3-409c-b768-d50db2a9c70a"
      },
      "execution_count": null,
      "outputs": [
        {
          "output_type": "execute_result",
          "data": {
            "text/plain": [
              "8"
            ]
          },
          "metadata": {},
          "execution_count": 5
        }
      ]
    },
    {
      "cell_type": "markdown",
      "source": [
        "# **Question 4**\n",
        "\n",
        "Given an array of integers `nums` containing `n + 1` integers where each integer is in the range `[1, n]` inclusive.\n",
        "\n",
        "There is only **one repeated number** in `nums`, return *this repeated number*.\n",
        "\n",
        "You must solve the problem **without** modifying the array `nums` and uses only constant extra space.\n",
        "\n",
        "**Example 1:**\n",
        "\n",
        "```\n",
        "Input: nums = [1,3,4,2,2]\n",
        "Output: 2\n",
        "\n",
        "```\n",
        "\n",
        "**Example 2:**\n",
        "```\n",
        "Input: nums = [3,1,3,4,2]\n",
        "Output: 3\n",
        "```"
      ],
      "metadata": {
        "id": "OXUe0XztD-Ox"
      }
    },
    {
      "cell_type": "code",
      "source": [
        "def findDuplicate(nums):\n",
        "  for k in nums:\n",
        "    a = abs(k)\n",
        "    if nums[a-1] < 0:\n",
        "      return a\n",
        "    else:\n",
        "      nums[a-1]*=-1\n",
        "\n",
        "#Driver Code\n",
        "nums = [3,1,3,4,2]\n",
        "findDuplicate(nums)"
      ],
      "metadata": {
        "colab": {
          "base_uri": "https://localhost:8080/"
        },
        "id": "W9BfSUr7Jwgt",
        "outputId": "a29bfe3b-13ab-4c9d-e342-349911c5ff87"
      },
      "execution_count": null,
      "outputs": [
        {
          "output_type": "execute_result",
          "data": {
            "text/plain": [
              "3"
            ]
          },
          "metadata": {},
          "execution_count": 6
        }
      ]
    },
    {
      "cell_type": "markdown",
      "source": [
        "# **Question 5**\n",
        "\n",
        "Given two integer arrays `nums1` and `nums2`, return *an array of their intersection*. Each element in the result must be **unique** and you may return the result in **any order**.\n",
        "\n",
        "**Example 1:**\n",
        "\n",
        "```\n",
        "Input: nums1 = [1,2,2,1], nums2 = [2,2]\n",
        "Output: [2]\n",
        "\n",
        "```\n",
        "\n",
        "**Example 2:**\n",
        "```\n",
        "Input: nums1 = [4,9,5], nums2 = [9,4,9,8,4]\n",
        "Output: [9,4]\n",
        "Explanation: [4,9] is also accepted.\n",
        "```"
      ],
      "metadata": {
        "id": "9SFSghTNELd3"
      }
    },
    {
      "cell_type": "code",
      "source": [
        "def intersection(nums1,nums2):\n",
        "  x=set(nums1)\n",
        "  y=set(nums2)\n",
        "  return list(x.intersection(y))\n",
        "\n",
        "#Driver Code\n",
        "nums1 = [4,9,5]\n",
        "nums2 = [9,4,9,8,4]\n",
        "intersection(nums1,nums2)"
      ],
      "metadata": {
        "colab": {
          "base_uri": "https://localhost:8080/"
        },
        "id": "P4yVnuQeKlpy",
        "outputId": "a3596d7c-937d-4f77-b503-e970228ccc92"
      },
      "execution_count": null,
      "outputs": [
        {
          "output_type": "execute_result",
          "data": {
            "text/plain": [
              "[9, 4]"
            ]
          },
          "metadata": {},
          "execution_count": 7
        }
      ]
    },
    {
      "cell_type": "markdown",
      "source": [
        "# **Question 6**\n",
        "\n",
        "Suppose an array of length `n` sorted in ascending order is **rotated** between `1` and `n` times. For example, the array `nums = [0,1,2,4,5,6,7]` might become:\n",
        "\n",
        "- `[4,5,6,7,0,1,2]` if it was rotated `4` times.\n",
        "- `[0,1,2,4,5,6,7]` if it was rotated `7` times.\n",
        "\n",
        "Notice that **rotating** an array `[a[0], a[1], a[2], ..., a[n-1]]` 1 time results in the array `[a[n-1], a[0], a[1], a[2], ..., a[n-2]]`.\n",
        "\n",
        "Given the sorted rotated array `nums` of **unique** elements, return *the minimum element of this array*.\n",
        "\n",
        "You must write an algorithm that runs in `O(log n) time.`\n",
        "\n",
        "**Example 1:**\n",
        "\n",
        "```\n",
        "Input: nums = [3,4,5,1,2]\n",
        "Output: 1\n",
        "Explanation: The original array was [1,2,3,4,5] rotated 3 times.\n",
        "\n",
        "```\n",
        "\n",
        "**Example 2:**\n",
        "\n",
        "```\n",
        "Input: nums = [4,5,6,7,0,1,2]\n",
        "Output: 0\n",
        "Explanation: The original array was [0,1,2,4,5,6,7] and it was rotated 4 times.\n",
        "\n",
        "```\n",
        "\n",
        "**Example 3:**\n",
        "```\n",
        "Input: nums = [11,13,15,17]\n",
        "Output: 11\n",
        "Explanation: The original array was [11,13,15,17] and it was rotated 4 times.\n",
        "\n",
        "```\n"
      ],
      "metadata": {
        "id": "9XpOMkcaEXuW"
      }
    },
    {
      "cell_type": "code",
      "source": [
        "def findMin(nums):\n",
        "  low=0\n",
        "  high=len(nums)-1\n",
        "  while low<high:\n",
        "    mid=(low+high)//2\n",
        "    if nums[mid]>nums[high]:\n",
        "      low=mid+1\n",
        "    else:\n",
        "      high=mid\n",
        "  return nums[low]\n",
        "\n",
        "#Driver Code\n",
        "nums = [4,5,6,7,0,1,2]\n",
        "findMin(nums)\n"
      ],
      "metadata": {
        "colab": {
          "base_uri": "https://localhost:8080/",
          "height": 0
        },
        "id": "p14Z7vSSDFww",
        "outputId": "1799a14c-a1c3-490a-ea86-46af61316ddf"
      },
      "execution_count": 2,
      "outputs": [
        {
          "output_type": "execute_result",
          "data": {
            "text/plain": [
              "0"
            ]
          },
          "metadata": {},
          "execution_count": 2
        }
      ]
    },
    {
      "cell_type": "markdown",
      "source": [
        "# **Question 7**\n",
        "\n",
        "Given an array of integers `nums` sorted in non-decreasing order, find the starting and ending position of a given `target` value.\n",
        "\n",
        "If `target` is not found in the array, return `[-1, -1]`.\n",
        "\n",
        "You must write an algorithm with `O(log n)` runtime complexity.\n",
        "\n",
        "**Example 1:**\n",
        "\n",
        "```\n",
        "Input: nums = [5,7,7,8,8,10], target = 8\n",
        "Output: [3,4]\n",
        "\n",
        "```\n",
        "\n",
        "**Example 2:**\n",
        "\n",
        "```\n",
        "Input: nums = [5,7,7,8,8,10], target = 6\n",
        "Output: [-1,-1]\n",
        "\n",
        "```\n",
        "\n",
        "**Example 3:**\n",
        "```\n",
        "Input: nums = [], target = 0\n",
        "Output: [-1,-1]\n",
        "```"
      ],
      "metadata": {
        "id": "mIYY-B58Ewmw"
      }
    },
    {
      "cell_type": "code",
      "source": [
        "def searchRange(nums,target):\n",
        "  pos = []\n",
        "  for i in range(len(nums)):\n",
        "    if nums[i] == target:\n",
        "      pos.append(i)\n",
        "\n",
        "  if len(pos) == 0:\n",
        "    pos.append(-1)\n",
        "    pos.append(-1)\n",
        "    return pos\n",
        "  else:\n",
        "    pos1 = []\n",
        "    pos1.append(min(pos))\n",
        "    pos1.append(max(pos))\n",
        "    return pos1\n",
        "\n",
        "#Driver Code\n",
        "nums = [5,7,7,8,8,10]\n",
        "target = 6\n",
        "searchRange(nums,target)"
      ],
      "metadata": {
        "colab": {
          "base_uri": "https://localhost:8080/",
          "height": 0
        },
        "id": "sGJFHCW8EDn0",
        "outputId": "f856ca0a-41bd-4993-abdd-155f4fc06eb4"
      },
      "execution_count": 3,
      "outputs": [
        {
          "output_type": "execute_result",
          "data": {
            "text/plain": [
              "[-1, -1]"
            ]
          },
          "metadata": {},
          "execution_count": 3
        }
      ]
    },
    {
      "cell_type": "markdown",
      "source": [
        "# **Question 8**\n",
        "\n",
        "Given two integer arrays `nums1` and `nums2`, return *an array of their intersection*. Each element in the result must appear as many times as it shows in both arrays and you may return the result in **any order**.\n",
        "\n",
        "**Example 1:**\n",
        "\n",
        "```\n",
        "Input: nums1 = [1,2,2,1], nums2 = [2,2]\n",
        "Output: [2,2]\n",
        "\n",
        "```\n",
        "\n",
        "**Example 2:**\n",
        "```\n",
        "Input: nums1 = [4,9,5], nums2 = [9,4,9,8,4]\n",
        "Output: [4,9]\n",
        "Explanation: [9,4] is also accepted.\n",
        "\n",
        "```\n"
      ],
      "metadata": {
        "id": "V4OkjTYwFIkm"
      }
    },
    {
      "cell_type": "code",
      "source": [
        "def intersection(nums1,nums2):\n",
        "  x=set(nums1)\n",
        "  y=set(nums2)\n",
        "  return list(x.intersection(y))\n",
        "\n",
        "#Driver Code\n",
        "nums1 = [4,9,5]\n",
        "nums2 = [9,4,9,8,4]\n",
        "intersection(nums1,nums2)"
      ],
      "metadata": {
        "colab": {
          "base_uri": "https://localhost:8080/",
          "height": 0
        },
        "id": "e9VIRFiiE7Z8",
        "outputId": "7544b327-447d-4098-9e97-0d7c9570e039"
      },
      "execution_count": 4,
      "outputs": [
        {
          "output_type": "execute_result",
          "data": {
            "text/plain": [
              "[9, 4]"
            ]
          },
          "metadata": {},
          "execution_count": 4
        }
      ]
    }
  ]
}