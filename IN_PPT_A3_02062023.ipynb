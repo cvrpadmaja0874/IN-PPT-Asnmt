{
  "nbformat": 4,
  "nbformat_minor": 0,
  "metadata": {
    "colab": {
      "provenance": [],
      "authorship_tag": "ABX9TyNsYLMlTTNb/SVkF9QEqotk",
      "include_colab_link": true
    },
    "kernelspec": {
      "name": "python3",
      "display_name": "Python 3"
    },
    "language_info": {
      "name": "python"
    }
  },
  "cells": [
    {
      "cell_type": "markdown",
      "metadata": {
        "id": "view-in-github",
        "colab_type": "text"
      },
      "source": [
        "<a href=\"https://colab.research.google.com/github/cvrpadmaja0874/IN-PPT-Asnmt/blob/main/IN_PPT_A3_02062023.ipynb\" target=\"_parent\"><img src=\"https://colab.research.google.com/assets/colab-badge.svg\" alt=\"Open In Colab\"/></a>"
      ]
    },
    {
      "cell_type": "markdown",
      "source": [
        "# **Question 1**\n",
        "Given an integer array nums of length n and an integer target, find three integers\n",
        "in nums such that the sum is closest to the target.\n",
        "Return the sum of the three integers.\n",
        "\n",
        "You may assume that each input would have exactly one solution.\n",
        "\n",
        "Example 1:\n",
        "Input: nums = [-1,2,1,-4], target = 1\n",
        "Output: 2\n",
        "\n",
        "Explanation: The sum that is closest to the target is 2. (-1 + 2 + 1 = 2)."
      ],
      "metadata": {
        "id": "sZ002L4-B2jb"
      }
    },
    {
      "cell_type": "code",
      "source": [
        "def threeSumClosest(nums, target):\n",
        "  nums.sort()\n",
        "  result = nums[0] + nums[1] + nums[2]\n",
        "  for i in range(len(nums) - 2):\n",
        "    j, k = i+1, len(nums) - 1\n",
        "\n",
        "    while j < k:\n",
        "      sum = nums[i] + nums[j] + nums[k]\n",
        "\n",
        "      if sum == target:\n",
        "        return sum\n",
        "                \n",
        "      if abs(sum - target) < abs(result - target):\n",
        "        result = sum\n",
        "                \n",
        "      if sum < target:\n",
        "        j += 1\n",
        "      elif sum > target:\n",
        "        k -= 1\n",
        "            \n",
        "  return result\n",
        "\n",
        "#Driver Code\n",
        "num = [-1,2,1,-4] \n",
        "target = 1\n",
        "threeSumClosest(num,target)"
      ],
      "metadata": {
        "colab": {
          "base_uri": "https://localhost:8080/"
        },
        "id": "6zaMgBn6FlYX",
        "outputId": "c9e9bb26-db77-4388-daf6-6c769930be8d"
      },
      "execution_count": null,
      "outputs": [
        {
          "output_type": "execute_result",
          "data": {
            "text/plain": [
              "2"
            ]
          },
          "metadata": {},
          "execution_count": 4
        }
      ]
    },
    {
      "cell_type": "markdown",
      "source": [
        "# **Question 2**\n",
        "Given an array nums of n integers, return an array of all the unique quadruplets\n",
        "[nums[a], nums[b], nums[c], nums[d]] such that:\n",
        "           ● 0 <= a, b, c, d < n\n",
        "           ● a, b, c, and d are distinct.\n",
        "           ● nums[a] + nums[b] + nums[c] + nums[d] == target\n",
        "\n",
        "You may return the answer in any order.\n",
        "\n",
        "Example 1:\n",
        "Input: nums = [1,0,-1,0,-2,2], target = 0\n",
        "Output: [[-2,-1,1,2],[-2,0,0,2],[-1,0,0,1]]"
      ],
      "metadata": {
        "id": "HUEOAHgYB3cI"
      }
    },
    {
      "cell_type": "code",
      "source": [
        "def quadSum(nums,target):\n",
        "\n",
        "  ans = set()\n",
        "  nums.sort()\n",
        "\n",
        "  for i in range(len(nums)):\n",
        "    for j in range(i+1,len(nums)):\n",
        "\n",
        "      k,l = j+1,len(nums)-1\n",
        "\n",
        "      while k<l:\n",
        "        s = nums[i]+nums[j]+nums[k]+nums[l]\n",
        "        \n",
        "        if s == target:\n",
        "          ans.add((nums[i],nums[j],nums[k],nums[l]))        \n",
        "          l-=1\n",
        "          k+=1\n",
        "        elif s > target:\n",
        "          l-=1\n",
        "        else:\n",
        "          k+=1\n",
        "                  \n",
        "  return ans\n",
        "\n",
        "#Driver code\n",
        "nums = [1,0,-1,0,-2,2]\n",
        "target = 0\n",
        "\n",
        "print(quadSum(nums,target))"
      ],
      "metadata": {
        "colab": {
          "base_uri": "https://localhost:8080/"
        },
        "id": "j9brznBhCPDr",
        "outputId": "c816bdf1-95f3-432e-d46f-915ceb437c0d"
      },
      "execution_count": null,
      "outputs": [
        {
          "output_type": "stream",
          "name": "stdout",
          "text": [
            "{(-2, -1, 1, 2), (-1, 0, 0, 1), (-2, 0, 0, 2)}\n"
          ]
        }
      ]
    },
    {
      "cell_type": "markdown",
      "source": [
        "# **Question 3**\n",
        "A permutation of an array of integers is an arrangement of its members into a\n",
        "sequence or linear order.\n",
        "\n",
        "For example, for arr = [1,2,3], the following are all the permutations of arr:\n",
        "[1,2,3], [1,3,2], [2, 1, 3], [2, 3, 1], [3,1,2], [3,2,1].\n",
        "\n",
        "The next permutation of an array of integers is the next lexicographically greater\n",
        "permutation of its integer. More formally, if all the permutations of the array are\n",
        "sorted in one container according to their lexicographical order, then the next\n",
        "permutation of that array is the permutation that follows it in the sorted container.\n",
        "\n",
        "If such an arrangement is not possible, the array must be rearranged as the\n",
        "lowest possible order (i.e., sorted in ascending order).\n",
        "\n",
        "● For example, the next permutation of arr = [1,2,3] is [1,3,2].\n",
        "\n",
        "● Similarly, the next permutation of arr = [2,3,1] is [3,1,2].\n",
        "\n",
        "● While the next permutation of arr = [3,2,1] is [1,2,3] because [3,2,1] does not have a lexicographical larger rearrangement.\n",
        "\n",
        "Given an array of integers nums, find the next permutation of nums.\n",
        "The replacement must be in place and use only constant extra memory.\n",
        "\n",
        "**Example 1:**\n",
        "\n",
        "Input: nums = [1,2,3]\n",
        "\n",
        "Output: [1,3,2]"
      ],
      "metadata": {
        "id": "Jtfk45DGB3ff"
      }
    },
    {
      "cell_type": "code",
      "source": [
        "def nextPermutation(nums):\n",
        "  for curr in reversed(range(0, len(nums) - 1)):\n",
        "    if nums[curr] >= nums[curr + 1]:\n",
        "      continue;\n",
        "                \n",
        "    next = curr + 1;\n",
        "    while next < len(nums) and nums[next] > nums[curr]:\n",
        "      next += 1;\n",
        "                \n",
        "    nums[curr], nums[next - 1] = nums[next - 1], nums[curr];\n",
        "            \n",
        "    nums[curr+1:] = reversed(nums[curr+1:])\n",
        "                \n",
        "    return nums;\n",
        "                    \n",
        "  return nums.sort();\n",
        "\n",
        "nums = [1,2,3]\n",
        "print(nextPermutation(nums))"
      ],
      "metadata": {
        "id": "3VYLQQYtCjPi",
        "colab": {
          "base_uri": "https://localhost:8080/"
        },
        "outputId": "14c0b27c-18f4-4511-a8f6-1e86bd841784"
      },
      "execution_count": 1,
      "outputs": [
        {
          "output_type": "stream",
          "name": "stdout",
          "text": [
            "[1, 3, 2]\n"
          ]
        }
      ]
    },
    {
      "cell_type": "markdown",
      "source": [
        "# **Question 4**\n",
        "Given a sorted array of distinct integers and a target value, return the index if the\n",
        "target is found. If not, return the index where it would be if it were inserted in\n",
        "order.\n",
        "\n",
        "You must write an algorithm with O(log n) runtime complexity.\n",
        "\n",
        "Example 1:\n",
        "\n",
        "Input: nums = [1,3,5,6], target = 5\n",
        "\n",
        "Output: 2"
      ],
      "metadata": {
        "id": "WkHFkKzoB3io"
      }
    },
    {
      "cell_type": "code",
      "source": [
        "# To return the index of Target Value\n",
        "\n",
        "def targetIndex(nums,target):\n",
        "\n",
        "  left, right = 0, len(nums)\n",
        "\n",
        "  while left < right:\n",
        "    mid = (left + right) >> 1\n",
        "    if nums[mid] >= target:\n",
        "      right = mid\n",
        "    else:\n",
        "      left = mid + 1\n",
        "  \n",
        "  return left\n",
        "\n",
        "# Driver \n",
        "# Test case 1\n",
        "nums = [1,3,5,6]\n",
        "target = 5\n",
        "\n",
        "print(targetIndex(nums,target))\n",
        "\n",
        "# Test case 2\n",
        "nums = [1,3,5,6]\n",
        "target = 8\n",
        "\n",
        "print(targetIndex(nums,target))"
      ],
      "metadata": {
        "colab": {
          "base_uri": "https://localhost:8080/"
        },
        "id": "fCY5f4pNCuKF",
        "outputId": "457b748b-fc7d-45cf-b7b3-0b48934f9edf"
      },
      "execution_count": null,
      "outputs": [
        {
          "output_type": "stream",
          "name": "stdout",
          "text": [
            "2\n",
            "4\n"
          ]
        }
      ]
    },
    {
      "cell_type": "markdown",
      "source": [
        "# **Question 5**\n",
        "You are given a large integer represented as an integer array digits, where each\n",
        "digits[i] is the ith digit of the integer. The digits are ordered from most significant\n",
        "to least significant in left-to-right order. The large integer does not contain any\n",
        "leading 0's.\n",
        "\n",
        "Increment the large integer by one and return the resulting array of digits.\n",
        "\n",
        "**Example 1:**\n",
        "\n",
        "Input: digits = [1,2,3]\n",
        "\n",
        "Output: [1,2,4]\n",
        "\n",
        "**Explanation:** The array represents the integer 123.\n",
        "\n",
        "Incrementing by one gives 123 + 1 = 124.\n",
        "\n",
        "Thus, the result should be [1,2,4]."
      ],
      "metadata": {
        "id": "ORGUeS-fB3lj"
      }
    },
    {
      "cell_type": "code",
      "source": [
        "def addOne(digits):\n",
        "    carry = 1\n",
        "        \n",
        "    for i in range(len(digits)-1, -1, -1):\n",
        "            \n",
        "        if digits[i] + carry > 9:\n",
        "            digits[i] = (digits[i] + carry) % 10\n",
        "            carry = 1\n",
        "        else:\n",
        "            digits[i] = digits[i] + carry\n",
        "            carry = 0\n",
        "    if carry == 1:\n",
        "        digits.insert(0, 1)\n",
        "        \n",
        "    return digits\n",
        "\n",
        "n = list(map(int, input().split()))\n",
        "print(addOne(n))"
      ],
      "metadata": {
        "colab": {
          "base_uri": "https://localhost:8080/"
        },
        "id": "EmCnf3ugDFtB",
        "outputId": "3c7cbd3b-bb2b-44b8-cec4-33b8c9b00f33"
      },
      "execution_count": null,
      "outputs": [
        {
          "output_type": "stream",
          "name": "stdout",
          "text": [
            "1 2 3\n",
            "[1, 2, 4]\n"
          ]
        }
      ]
    },
    {
      "cell_type": "markdown",
      "source": [
        "# **Question 6**\n",
        "Given a non-empty array of integers nums, every element appears twice except\n",
        "for one. Find that single one.\n",
        "\n",
        "You must implement a solution with a linear runtime complexity and use only\n",
        "constant extra space.\n",
        "\n",
        "Example 1:\n",
        "\n",
        "Input: nums = [2,2,1]\n",
        "\n",
        "Output: 1"
      ],
      "metadata": {
        "id": "jBcF1r4jB3oY"
      }
    },
    {
      "cell_type": "code",
      "source": [
        "def findSingle(nums):\n",
        "  xor = 0\n",
        "  for num in nums:\n",
        "    xor ^= num\n",
        "        \n",
        "  return xor\n",
        "\n",
        "#Driver Code\n",
        "nums = [2,2,1]\n",
        "print(findSingle(nums))"
      ],
      "metadata": {
        "colab": {
          "base_uri": "https://localhost:8080/"
        },
        "id": "r8gs9EogDnKY",
        "outputId": "389eb55c-d244-4c45-ac6b-6202782b3875"
      },
      "execution_count": null,
      "outputs": [
        {
          "output_type": "stream",
          "name": "stdout",
          "text": [
            "1\n"
          ]
        }
      ]
    },
    {
      "cell_type": "markdown",
      "source": [
        "# **Question 7**\n",
        "You are given an inclusive range [lower, upper] and a sorted unique integer array\n",
        "nums, where all elements are within the inclusive range.\n",
        "\n",
        "A number x is considered missing if x is in the range [lower, upper] and x is not in\n",
        "nums.\n",
        "\n",
        "Return the shortest sorted list of ranges that exactly covers all the missing\n",
        "numbers. That is, no element of nums is included in any of the ranges, and each\n",
        "missing number is covered by one of the ranges.\n",
        "\n",
        "Example 1:\n",
        "Input: nums = [0,1,3,50,75], lower = 0, upper = 99\n",
        "\n",
        "Output: [[2,2],[4,49],[51,74],[76,99]]\n",
        "\n",
        "Explanation: The ranges are:\n",
        "\n",
        "[2,2]\n",
        "\n",
        "[4,49]\n",
        "\n",
        "[51,74]\n",
        "\n",
        "[76,99]"
      ],
      "metadata": {
        "id": "cgeV_sDTB3rv"
      }
    },
    {
      "cell_type": "code",
      "source": [
        "def findMissingRanges(nums,lower,upper):\n",
        "    def getRange(lo,hi):\n",
        "      if lo == hi:\n",
        "        return lo\n",
        "      return [lo,hi]\n",
        "\n",
        "    if not nums:\n",
        "      return [getRange(lower, upper)]\n",
        "\n",
        "    ans = []\n",
        "\n",
        "    if nums[0] > lower:\n",
        "      ans.append(getRange(lower, nums[0] - 1))\n",
        "\n",
        "    for prev, curr in zip(nums, nums[1:]):\n",
        "      if curr > prev + 1:\n",
        "        ans.append(getRange(prev + 1, curr - 1))\n",
        "\n",
        "    if nums[-1] < upper:\n",
        "      ans.append(getRange(nums[-1] + 1, upper))\n",
        "\n",
        "    return ans\n",
        "\n",
        "nums = [0,1,3,50,75]\n",
        "lower = 0\n",
        "upper = 99\n",
        "print(findMissingRanges(nums,lower,upper))"
      ],
      "metadata": {
        "id": "FACBCoegEF7r",
        "colab": {
          "base_uri": "https://localhost:8080/"
        },
        "outputId": "5e12e3b8-80b4-4963-edcd-c9d541f85dd3"
      },
      "execution_count": 3,
      "outputs": [
        {
          "output_type": "stream",
          "name": "stdout",
          "text": [
            "[2, [4, 49], [51, 74], [76, 99]]\n"
          ]
        }
      ]
    },
    {
      "cell_type": "markdown",
      "source": [
        "# **Question 8**\n",
        "Given an array of meeting time intervals where intervals\n",
        "\n",
        "[i] = [starti, endi]\n",
        "\n",
        "determine if a person could attend all meetings.\n",
        "\n",
        "Example 1:\n",
        "\n",
        "Input: intervals = [[0,30],[5,10],[15,20]]\n",
        "\n",
        "Output: false"
      ],
      "metadata": {
        "id": "AXoEL04KB3vK"
      }
    },
    {
      "cell_type": "code",
      "source": [
        "def canAttendAllMeetings(intervals):\n",
        "        new_intervals = sorted(intervals, key=lambda x: x[0])\n",
        "        for i in range(1,len(new_intervals)):\n",
        "            if new_intervals[i-1][1] > new_intervals[i][0]:return False\n",
        "        return True\n",
        "\n",
        "#Driver Code\n",
        "intervals = [[0,30],[5,10],[15,20]]\n",
        "print(canAttendAllMeetings(intervals))"
      ],
      "metadata": {
        "colab": {
          "base_uri": "https://localhost:8080/"
        },
        "id": "ByKGTrdQEa62",
        "outputId": "065a1f52-2098-44db-ee2b-4f777ef86d7e"
      },
      "execution_count": null,
      "outputs": [
        {
          "output_type": "stream",
          "name": "stdout",
          "text": [
            "False\n"
          ]
        }
      ]
    }
  ]
}