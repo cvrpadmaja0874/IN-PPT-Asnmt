{
  "nbformat": 4,
  "nbformat_minor": 0,
  "metadata": {
    "colab": {
      "provenance": [],
      "authorship_tag": "ABX9TyM+4kQbmSdY442Tx2YI0lOl",
      "include_colab_link": true
    },
    "kernelspec": {
      "name": "python3",
      "display_name": "Python 3"
    },
    "language_info": {
      "name": "python"
    }
  },
  "cells": [
    {
      "cell_type": "markdown",
      "metadata": {
        "id": "view-in-github",
        "colab_type": "text"
      },
      "source": [
        "<a href=\"https://colab.research.google.com/github/cvrpadmaja0874/IN-PPT-Asnmt/blob/main/IN_PPT_A8_08062023.ipynb\" target=\"_parent\"><img src=\"https://colab.research.google.com/assets/colab-badge.svg\" alt=\"Open In Colab\"/></a>"
      ]
    },
    {
      "cell_type": "markdown",
      "source": [
        "# **Question 1**\n",
        "\n",
        "Given two strings s1 and s2, return *the lowest **ASCII** sum of deleted characters to make two strings equal*.\n",
        "\n",
        "**Example 1:**\n",
        "\n",
        "**Input:** s1 = \"sea\", s2 = \"eat\"\n",
        "\n",
        "**Output:** 231\n",
        "\n",
        "**Explanation:** Deleting \"s\" from \"sea\" adds the ASCII value of \"s\" (115) to the sum.\n",
        "\n",
        "Deleting \"t\" from \"eat\" adds 116 to the sum.\n",
        "\n",
        "At the end, both strings are equal, and 115 + 116 = 231 is the minimum sum possible to achieve this.\n",
        "\n"
      ],
      "metadata": {
        "id": "bTfy6_NrV1Jm"
      }
    },
    {
      "cell_type": "code",
      "source": [
        "def minimumDeleteSum(s1,s2):\n",
        "  m, n = len(s1), len(s2)\n",
        "  dp = [[0] * (n + 1) for _ in range(m + 1)]\n",
        "  for i in range(1, m + 1):\n",
        "    dp[i][0] = dp[i - 1][0] + ord(s1[i - 1])\n",
        "  for j in range(1, n + 1):\n",
        "    dp[0][j] = dp[0][j - 1] + ord(s2[j - 1])\n",
        "  for i in range(1, m + 1):\n",
        "    for j in range(1, n + 1):\n",
        "      if s1[i - 1] == s2[j - 1]:\n",
        "        dp[i][j] = dp[i - 1][j - 1]\n",
        "      else:\n",
        "        dp[i][j] = min(dp[i - 1][j] + ord(s1[i - 1]), dp[i][j - 1] + ord(s2[j - 1]))\n",
        "  return dp[-1][-1]\n",
        "\n",
        "# Driver Code\n",
        "s1 = \"sea\"\n",
        "s2 = \"eat\"\n",
        "minimumDeleteSum(s1,s2)"
      ],
      "metadata": {
        "colab": {
          "base_uri": "https://localhost:8080/"
        },
        "id": "0O5xuidNV0RK",
        "outputId": "0660abf7-825b-4991-9c7c-a0658b942899"
      },
      "execution_count": 1,
      "outputs": [
        {
          "output_type": "execute_result",
          "data": {
            "text/plain": [
              "231"
            ]
          },
          "metadata": {},
          "execution_count": 1
        }
      ]
    },
    {
      "cell_type": "markdown",
      "source": [
        "# **Question 2**\n",
        "\n",
        "Given a string s containing only three types of characters: '(', ')' and '*', return true *if* s *is **valid***.\n",
        "\n",
        "The following rules define a **valid** string:\n",
        "\n",
        "- Any left parenthesis '(' must have a corresponding right parenthesis ')'.\n",
        "- Any right parenthesis ')' must have a corresponding left parenthesis '('.\n",
        "- Left parenthesis '(' must go before the corresponding right parenthesis ')'.\n",
        "- '*' could be treated as a single right parenthesis ')' or a single left parenthesis '(' or an empty string \"\".\n",
        "\n",
        "**Example 1:**\n",
        "\n",
        "**Input:** s = \"()\"\n",
        "\n",
        "**Output:**\n",
        "\n",
        "true"
      ],
      "metadata": {
        "id": "OcIzc_aGWVz-"
      }
    },
    {
      "cell_type": "code",
      "source": [
        "def checkValidString(s):\n",
        "  lo = hi = 0\n",
        "  for c in s:\n",
        "    lo += 1 if c == '(' else -1\n",
        "    hi += 1 if c != ')' else -1\n",
        "    if hi < 0: break\n",
        "    lo = max(lo, 0)\n",
        "  return lo == 0\n",
        "\n",
        "#Driver Code\n",
        "s = \"(())\"\n",
        "checkValidString(s)"
      ],
      "metadata": {
        "colab": {
          "base_uri": "https://localhost:8080/"
        },
        "id": "nc1kmWYdZWy1",
        "outputId": "d65412b4-97ce-4467-af55-712510a92632"
      },
      "execution_count": 4,
      "outputs": [
        {
          "output_type": "execute_result",
          "data": {
            "text/plain": [
              "True"
            ]
          },
          "metadata": {},
          "execution_count": 4
        }
      ]
    },
    {
      "cell_type": "markdown",
      "source": [
        "# **Question 3**\n",
        "\n",
        "Given two strings word1 and word2, return *the minimum number of **steps** required to make* word1 *and* word2 *the same*.\n",
        "\n",
        "In one **step**, you can delete exactly one character in either string.\n",
        "\n",
        "**Example 1:**\n",
        "\n",
        "**Input:** word1 = \"sea\", word2 = \"eat\"\n",
        "\n",
        "**Output:** 2\n",
        "\n",
        "**Explanation:** You need one step to make \"sea\" to \"ea\" and another step to make \"eat\" to \"ea\"."
      ],
      "metadata": {
        "id": "GGXq3PLlWd99"
      }
    },
    {
      "cell_type": "code",
      "source": [
        "def minSteps(word1, word2):\n",
        "  m=len(word1)\n",
        "  n=len(word2)\n",
        "  dp=[]\n",
        "  for i in range (m+1):\n",
        "    dp.append([0]*(n+1))\n",
        "  for i in range (m+1):\n",
        "    dp[i][0]=i\n",
        "  for i in range (n+1):\n",
        "    dp[0][i]=i\n",
        "  for i in range (1,m+1):\n",
        "    for j in range (1,n+1):\n",
        "      if word1[i-1]==word2[j-1]:\n",
        "        dp[i][j]=dp[i-1][j-1]\n",
        "      else:\n",
        "        dp[i][j]=min(dp[i][j-1],dp[i-1][j])+1\n",
        "  return dp[-1][-1]\n",
        "\n",
        "#Driver Code\n",
        "word1 = \"sea\"\n",
        "word2 = \"eat\"\n",
        "minSteps(word1, word2)"
      ],
      "metadata": {
        "colab": {
          "base_uri": "https://localhost:8080/"
        },
        "id": "_mn4g-elahdg",
        "outputId": "bb5d1684-b548-41de-e36c-80514942e1ac"
      },
      "execution_count": 5,
      "outputs": [
        {
          "output_type": "execute_result",
          "data": {
            "text/plain": [
              "2"
            ]
          },
          "metadata": {},
          "execution_count": 5
        }
      ]
    },
    {
      "cell_type": "markdown",
      "source": [
        "# **Question 4**\n",
        "\n",
        "You need to construct a binary tree from a string consisting of parenthesis and integers.\n",
        "\n",
        "The whole input represents a binary tree. It contains an integer followed by zero, one or two pairs of parenthesis. The integer represents the root's value and a pair of parenthesis contains a child binary tree with the same structure.\n",
        "You always start to construct the **left** child node of the parent first if it exists.\n",
        "\n",
        "**Input:** s = \"4(2(3)(1))(6(5))\"\n",
        "\n",
        "**Output:** [4,2,6,3,1,5]"
      ],
      "metadata": {
        "id": "FVvf0QViWka_"
      }
    },
    {
      "cell_type": "code",
      "source": [
        "class newNode:\n",
        "\tdef __init__(self, data):\n",
        "\t\tself.data = data\n",
        "\t\tself.left = self.right = None\n",
        "\n",
        "def printLevelOrder(root): \n",
        "    # Base Case\n",
        "    if root is None:\n",
        "        return\n",
        " \n",
        "    # Create an empty queue\n",
        "    # for level order traversal\n",
        "    queue = []\n",
        " \n",
        "    # Enqueue Root and initialize height\n",
        "    queue.append(root)\n",
        " \n",
        "    while(len(queue) > 0):\n",
        " \n",
        "        # Print front of queue and\n",
        "        # remove it from queue\n",
        "        print(queue[0].data, end=\" \")\n",
        "        node = queue.pop(0)\n",
        " \n",
        "        # Enqueue left child\n",
        "        if node.left is not None:\n",
        "            queue.append(node.left)\n",
        " \n",
        "        # Enqueue right child\n",
        "        if node.right is not None:\n",
        "            queue.append(node.right)\n",
        "\n",
        "# function to return the index of\n",
        "# close parenthesis\t\t\t\t\t\n",
        "\n",
        "def findIndex(Str, si, ei):\n",
        "\tif (si > ei):\n",
        "\t\treturn -1\n",
        "\n",
        "\t# Inbuilt stack\n",
        "\ts = []\n",
        "\tfor i in range(si, ei + 1):\n",
        "\n",
        "\t\t# if open parenthesis, push it\n",
        "\t\tif (Str[i] == '('):\n",
        "\t\t\ts.append(Str[i])\n",
        "\n",
        "\t\t# if close parenthesis\n",
        "\t\telif (Str[i] == ')'):\n",
        "\t\t\tif (s[-1] == '('):\n",
        "\t\t\t\ts.pop(-1)\n",
        "\n",
        "\t\t\t\t# if stack is empty, this is\n",
        "\t\t\t\t# the required index\n",
        "\t\t\t\tif len(s) == 0:\n",
        "\t\t\t\t\treturn i\n",
        "\t# if not found return -1\n",
        "\treturn -1\n",
        "\n",
        "# function to conStruct tree from String\n",
        "\n",
        "\n",
        "def treeFromString(Str, si, ei):\n",
        "\n",
        "\t# Base case\n",
        "\tif (si > ei):\n",
        "\t\treturn None\n",
        "\n",
        "\t# new root\n",
        "\troot = newNode(ord(Str[si]) - ord('0'))\n",
        "\tindex = -1\n",
        "\n",
        "\t# if next char is '(' find the\n",
        "\t# index of its complement ')'\n",
        "\tif (si + 1 <= ei and Str[si + 1] == '('):\n",
        "\t\tindex = findIndex(Str, si + 1, ei)\n",
        "\n",
        "\t# if index found\n",
        "\tif (index != -1):\n",
        "\n",
        "\t\t# call for left subtree\n",
        "\t\troot.left = treeFromString(Str, si + 2,\n",
        "\t\t\t\t\t\t\t\tindex - 1)\n",
        "\n",
        "\t\t# call for right subtree\n",
        "\t\troot.right = treeFromString(Str, index + 2,\n",
        "\t\t\t\t\t\t\t\t\tei - 1)\n",
        "\treturn root\n",
        "\n",
        "\n",
        "# Driver Code\n",
        "if __name__ == '__main__':\n",
        "\tStr = \"4(2(3)(1))(6(5))\"  \n",
        "\troot = treeFromString(Str, 0, len(Str) - 1)  \n",
        "  \n",
        "printLevelOrder(root)"
      ],
      "metadata": {
        "colab": {
          "base_uri": "https://localhost:8080/"
        },
        "outputId": "55f20b93-304d-4e21-b9b6-1617dbf2acf9",
        "id": "EbwOgYE-xzu9"
      },
      "execution_count": 44,
      "outputs": [
        {
          "output_type": "stream",
          "name": "stdout",
          "text": [
            "4 2 6 3 1 5 "
          ]
        }
      ]
    },
    {
      "cell_type": "markdown",
      "source": [
        "# **Question 5**\n",
        "\n",
        "Given an array of characters chars, compress it using the following algorithm:\n",
        "\n",
        "Begin with an empty string s. For each group of **consecutive repeating characters** in chars:\n",
        "\n",
        "- If the group's length is 1, append the character to s.\n",
        "- Otherwise, append the character followed by the group's length.\n",
        "\n",
        "The compressed string s **should not be returned separately**, but instead, be stored **in the input character array chars**. Note that group lengths that are 10 or longer will be split into multiple characters in chars.\n",
        "\n",
        "After you are done **modifying the input array,** return *the new length of the array*.\n",
        "\n",
        "You must write an algorithm that uses only constant extra space.\n",
        "\n",
        "**Example 1:**\n",
        "\n",
        "**Input:** chars = [\"a\",\"a\",\"b\",\"b\",\"c\",\"c\",\"c\"]\n",
        "\n",
        "**Output:** Return 6, and the first 6 characters of the input array should be: [\"a\",\"2\",\"b\",\"2\",\"c\",\"3\"]\n",
        "\n",
        "**Explanation:**\n",
        "\n",
        "The groups are \"aa\", \"bb\", and \"ccc\". This compresses to \"a2b2c3\"."
      ],
      "metadata": {
        "id": "ART1BCNGW8T9"
      }
    },
    {
      "cell_type": "code",
      "source": [
        "def compress(chars):\n",
        "  i=0\n",
        "  count=1\n",
        "  while i<len(chars)-1:\n",
        "    if chars[i+1]==chars[i]:\n",
        "      chars.pop(i+1)\n",
        "      count+=1\n",
        "    elif count>1:\n",
        "      cc=[*str(count)]\n",
        "      for j in range(len(cc)):\n",
        "        chars.insert(i+j+1,cc[j])\n",
        "      count=1\n",
        "      i+=len(cc)+1\n",
        "    else:\n",
        "      i+=1\n",
        "  if count>1:\n",
        "    chars+=[*str(count)]\n",
        "  return len(chars)\n",
        "\n",
        "#Driver Code\n",
        "#chars = [\"a\",\"a\",\"b\",\"b\",\"c\",\"c\",\"c\"]\n",
        "#compress(chars)\n",
        "chars = [\"a\",\"b\",\"b\",\"b\",\"b\",\"b\",\"b\",\"b\",\"b\",\"b\",\"b\",\"b\",\"b\"]\n",
        "compress(chars)"
      ],
      "metadata": {
        "colab": {
          "base_uri": "https://localhost:8080/"
        },
        "id": "nmuSzcSJz7Z2",
        "outputId": "3ed73273-e05e-48ee-cbc4-9d31d75c30c4"
      },
      "execution_count": 47,
      "outputs": [
        {
          "output_type": "execute_result",
          "data": {
            "text/plain": [
              "4"
            ]
          },
          "metadata": {},
          "execution_count": 47
        }
      ]
    },
    {
      "cell_type": "markdown",
      "source": [
        "# **Question 6**\n",
        "\n",
        "Given two strings s and p, return *an array of all the start indices of* p*'s anagrams in* s. You may return the answer in **any order**.\n",
        "\n",
        "An **Anagram** is a word or phrase formed by rearranging the letters of a different word or phrase, typically using all the original letters exactly once.\n",
        "\n",
        "**Example 1:**\n",
        "\n",
        "**Input:** s = \"cbaebabacd\", p = \"abc\"\n",
        "\n",
        "**Output:** [0,6]\n",
        "\n",
        "**Explanation:**\n",
        "\n",
        "The substring with start index = 0 is \"cba\", which is an anagram of \"abc\".\n",
        "\n",
        "The substring with start index = 6 is \"bac\", which is an anagram of \"abc\"."
      ],
      "metadata": {
        "id": "1FCBmrW_XDH9"
      }
    },
    {
      "cell_type": "code",
      "source": [
        "from collections import defaultdict\n",
        "def findAnagrams(s,p):\n",
        "  hm, res, pL, sL = defaultdict(int), [], len(p), len(s)\n",
        "  if pL > sL: return []\n",
        "\n",
        "  # build hashmap\n",
        "  for ch in p: \n",
        "    hm[ch] += 1\n",
        "\n",
        "  # initial full pass over the window\n",
        "  for i in range(pL-1):\n",
        "    if s[i] in hm: \n",
        "      hm[s[i]] -= 1\n",
        "            \n",
        "  # slide the window with stride 1\n",
        "  for i in range(-1, sL-pL+1):\n",
        "    if i > -1 and s[i] in hm:\n",
        "      hm[s[i]] += 1\n",
        "    if i+pL < sL and s[i+pL] in hm: \n",
        "      hm[s[i+pL]] -= 1\n",
        "                \n",
        "    # check whether we encountered an anagram\n",
        "    if all(v == 0 for v in hm.values()): \n",
        "      res.append(i+1)\n",
        "                \n",
        "  return res\n",
        "\n",
        "# Driver Code\n",
        "s = \"cbaebabacd\"\n",
        "p = \"abc\"\n",
        "findAnagrams(s,p)"
      ],
      "metadata": {
        "colab": {
          "base_uri": "https://localhost:8080/"
        },
        "id": "qrmJOQwY32HF",
        "outputId": "82840a92-8924-48c7-e082-b16e64788fda"
      },
      "execution_count": 50,
      "outputs": [
        {
          "output_type": "execute_result",
          "data": {
            "text/plain": [
              "[0, 6]"
            ]
          },
          "metadata": {},
          "execution_count": 50
        }
      ]
    },
    {
      "cell_type": "markdown",
      "source": [
        "# **Question 7**\n",
        "\n",
        "Given an encoded string, return its decoded string.\n",
        "\n",
        "The encoding rule is: k[encoded_string], where the encoded_string inside the square brackets is being repeated exactly k times. Note that k is guaranteed to be a positive integer.\n",
        "\n",
        "You may assume that the input string is always valid; there are no extra white spaces, square brackets are well-formed, etc. Furthermore, you may assume that the original data does not contain any digits and that digits are only for those repeat numbers, k. For example, there will not be input like 3a or 2[4].\n",
        "\n",
        "The test cases are generated so that the length of the output will never exceed 105.\n",
        "\n",
        "**Example 1:**\n",
        "\n",
        "**Input:** s = \"3[a]2[bc]\"\n",
        "\n",
        "**Output:** \"aaabcbc\""
      ],
      "metadata": {
        "id": "MMcVZ2OiXJVX"
      }
    },
    {
      "cell_type": "code",
      "source": [
        "import re\n",
        "def decodeString(s):\n",
        "  while '[' in s:\n",
        "    s = re.sub(r'(\\d+?)\\[(\\w+?)\\]',lambda m: int(m.group(1))*m.group(2),s)\n",
        "  return s\n",
        "\n",
        "#Driver Code\n",
        "s = \"3[a]2[bc]\"\n",
        "decodeString(s)"
      ],
      "metadata": {
        "colab": {
          "base_uri": "https://localhost:8080/",
          "height": 35
        },
        "id": "NfRxTCIQ61Hk",
        "outputId": "a6ecf108-7074-491d-9c7d-2c24e4e5b2a7"
      },
      "execution_count": 52,
      "outputs": [
        {
          "output_type": "execute_result",
          "data": {
            "text/plain": [
              "'aaabcbc'"
            ],
            "application/vnd.google.colaboratory.intrinsic+json": {
              "type": "string"
            }
          },
          "metadata": {},
          "execution_count": 52
        }
      ]
    },
    {
      "cell_type": "markdown",
      "source": [
        "# **Question 8**\n",
        "\n",
        "Given two strings s and goal, return true *if you can swap two letters in* s *so the result is equal to* goal*, otherwise, return* false*.*\n",
        "\n",
        "Swapping letters is defined as taking two indices i and j (0-indexed) such that i != j and swapping the characters at s[i] and s[j].\n",
        "\n",
        "- For example, swapping at indices 0 and 2 in \"abcd\" results in \"cbad\".\n",
        "\n",
        "**Example 1:**\n",
        "\n",
        "**Input:** s = \"ab\", goal = \"ba\"\n",
        "\n",
        "**Output:** true\n",
        "\n",
        "**Explanation:** You can swap s[0] = 'a' and s[1] = 'b' to get \"ba\", which is equal to goal."
      ],
      "metadata": {
        "id": "TPMpRkVFXPRi"
      }
    },
    {
      "cell_type": "code",
      "source": [
        "def buddyStrings(s,goal):\n",
        "  # length\n",
        "  if len(s) != len(goal):\n",
        "    return False\n",
        "        \n",
        "  # s == goal condition\n",
        "  if s == goal and len(set(s)) < len(s):\n",
        "    return True\n",
        "        \n",
        "  # The length is same so now we check weather or not we can reach goal by making a single swap\n",
        "  differences = []\n",
        "  for x in range(len(goal)):\n",
        "    if s[x] != goal[x]:\n",
        "      differences.append([s[x], goal[x]])\n",
        "\n",
        "  if len(differences) == 2 and differences[0] == differences[-1][::-1]:\n",
        "    return True\n",
        "        \n",
        "  return False\n",
        "\n",
        "#Driver Code\n",
        "s = \"ab\"\n",
        "goal = \"ba\"\n",
        "buddyStrings(s,goal)"
      ],
      "metadata": {
        "colab": {
          "base_uri": "https://localhost:8080/"
        },
        "id": "22z5GAB38w17",
        "outputId": "24ae3911-2747-4503-b238-87cf98e689be"
      },
      "execution_count": 53,
      "outputs": [
        {
          "output_type": "execute_result",
          "data": {
            "text/plain": [
              "True"
            ]
          },
          "metadata": {},
          "execution_count": 53
        }
      ]
    }
  ]
}