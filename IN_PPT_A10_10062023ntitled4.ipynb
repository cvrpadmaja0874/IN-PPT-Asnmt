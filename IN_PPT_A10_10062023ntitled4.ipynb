{
  "nbformat": 4,
  "nbformat_minor": 0,
  "metadata": {
    "colab": {
      "provenance": [],
      "authorship_tag": "ABX9TyMMItZqZZvt/MEaOGyujYiI",
      "include_colab_link": true
    },
    "kernelspec": {
      "name": "python3",
      "display_name": "Python 3"
    },
    "language_info": {
      "name": "python"
    }
  },
  "cells": [
    {
      "cell_type": "markdown",
      "metadata": {
        "id": "view-in-github",
        "colab_type": "text"
      },
      "source": [
        "<a href=\"https://colab.research.google.com/github/cvrpadmaja0874/IN-PPT-Asnmt/blob/main/IN_PPT_A10_10062023ntitled4.ipynb\" target=\"_parent\"><img src=\"https://colab.research.google.com/assets/colab-badge.svg\" alt=\"Open In Colab\"/></a>"
      ]
    },
    {
      "cell_type": "markdown",
      "source": [
        "# **Question 1**\n",
        "\n",
        "Given an integer `n`, return *`true` if it is a power of three. Otherwise, return `false`*.\n",
        "\n",
        "An integer `n` is a power of three, if there exists an integer `x` such that `n == 3x`.\n",
        "\n",
        "**Example 1:**\n",
        "\n",
        "```\n",
        "Input: n = 27\n",
        "Output: true\n",
        "Explanation: 27 = 33\n",
        "```\n",
        "\n",
        "**Example 2:**\n",
        "\n",
        "```\n",
        "Input: n = 0\n",
        "Output: false\n",
        "Explanation: There is no x where 3x = 0.\n",
        "\n",
        "```\n",
        "\n",
        "**Example 3:**"
      ],
      "metadata": {
        "id": "kWnfN0dZJqbW"
      }
    },
    {
      "cell_type": "code",
      "source": [
        "def isPowerOfThree(n):\n",
        "  if(n>1): \n",
        "    while(n%3==0):\n",
        "      n//=3\n",
        "  return n==1\n",
        "\n",
        "#Driver Code\n",
        "n = int(input())\n",
        "isPowerOfThree(n)"
      ],
      "metadata": {
        "colab": {
          "base_uri": "https://localhost:8080/"
        },
        "id": "SoJ75oplJ8Lw",
        "outputId": "944e2152-0a6b-4a6b-bbe7-6543026f793b"
      },
      "execution_count": 4,
      "outputs": [
        {
          "name": "stdout",
          "output_type": "stream",
          "text": [
            "16\n"
          ]
        },
        {
          "output_type": "execute_result",
          "data": {
            "text/plain": [
              "False"
            ]
          },
          "metadata": {},
          "execution_count": 4
        }
      ]
    },
    {
      "cell_type": "markdown",
      "source": [
        "# **Question 2**\n",
        "\n",
        "You have a list `arr` of all integers in the range `[1, n]` sorted in a strictly increasing order. Apply the following algorithm on `arr`:\n",
        "\n",
        "- Starting from left to right, remove the first number and every other number afterward until you reach the end of the list.\n",
        "- Repeat the previous step again, but this time from right to left, remove the rightmost number and every other number from the remaining numbers.\n",
        "- Keep repeating the steps again, alternating left to right and right to left, until a single number remains.\n",
        "\n",
        "Given the integer `n`, return *the last number that remains in* `arr`.\n",
        "\n",
        "**Example 1:**\n",
        "\n",
        "```\n",
        "Input: n = 9\n",
        "Output: 6\n",
        "Explanation:\n",
        "arr = [1, 2,3, 4,5, 6,7, 8,9]\n",
        "arr = [2,4, 6,8]\n",
        "arr = [2, 6]\n",
        "arr = [6]\n",
        "\n",
        "```\n",
        "\n",
        "**Example 2:**\n",
        "\n",
        "    Input: n = 1\n",
        "    Output: 1"
      ],
      "metadata": {
        "id": "TqY6n_09JuC0"
      }
    },
    {
      "cell_type": "code",
      "source": [
        "def lastRemaining(n):\n",
        "  return 1 if n == 1 else 2 * (1 + n // 2 - lastRemaining(n // 2))\n",
        "\n",
        "#Driver Code\n",
        "n = int(input())\n",
        "lastRemaining(n)"
      ],
      "metadata": {
        "colab": {
          "base_uri": "https://localhost:8080/"
        },
        "id": "JKIOC7NCPjtB",
        "outputId": "f20c6a90-0302-47ab-d70a-142b6e58a2af"
      },
      "execution_count": 5,
      "outputs": [
        {
          "name": "stdout",
          "output_type": "stream",
          "text": [
            "9\n"
          ]
        },
        {
          "output_type": "execute_result",
          "data": {
            "text/plain": [
              "6"
            ]
          },
          "metadata": {},
          "execution_count": 5
        }
      ]
    },
    {
      "cell_type": "markdown",
      "source": [
        "# **Question 3**\n",
        "\n",
        "Given a set represented as a string, write a recursive code to print all subsets of it. The subsets can be printed in any order.\n",
        "\n",
        "**Example 1:**\n",
        "\n",
        "Input :  set = “abc”\n",
        "\n",
        "Output : { “”, “a”, “b”, “c”, “ab”, “ac”, “bc”, “abc”}\n",
        "\n",
        "**Example 2:**\n",
        "\n",
        "Input : set = “abcd”\n",
        "\n",
        "Output : { “”, “a” ,”ab” ,”abc” ,”abcd”, “abd” ,”ac” ,”acd”, “ad” ,”b”, “bc” ,”bcd” ,”bd” ,”c” ,”cd” ,”d” }\n"
      ],
      "metadata": {
        "id": "NS_NeI0XJt0X"
      }
    },
    {
      "cell_type": "code",
      "source": [
        "result = []\n",
        "def powerSet(string, index, curr):\n",
        "  if index == len(string):\n",
        "    result.append(curr)\n",
        "    return\n",
        "  powerSet(string, index + 1,curr + string[index])\n",
        "  powerSet(string, index + 1, curr)\n",
        "  \n",
        "\n",
        "#Driver Code\n",
        "s1 = \"abcd\"\n",
        "index = 0\n",
        "curr = \"\"\n",
        "powerSet(s1, index, curr)\n",
        "print(set(result))"
      ],
      "metadata": {
        "colab": {
          "base_uri": "https://localhost:8080/"
        },
        "id": "H_y9x9mfPiow",
        "outputId": "938c16ad-7e57-49ed-ad0c-e9a4cbc20830"
      },
      "execution_count": 12,
      "outputs": [
        {
          "output_type": "stream",
          "name": "stdout",
          "text": [
            "{'', 'abcd', 'ac', 'bcd', 'abc', 'abd', 'a', 'bc', 'd', 'c', 'bd', 'b', 'cd', 'ad', 'ab', 'acd'}\n"
          ]
        }
      ]
    },
    {
      "cell_type": "markdown",
      "source": [
        "# **Question 4**\n",
        "\n",
        "Given a string calculate length of the string using recursion.\n",
        "\n",
        "**Examples:**\n",
        "\n",
        "      Input : str = \"abcd\"\n",
        "      Output :4\n",
        "\n",
        "      Input : str = \"GEEKSFORGEEKS\"\n",
        "      Output :13"
      ],
      "metadata": {
        "id": "XgYGikwlJthX"
      }
    },
    {
      "cell_type": "code",
      "source": [
        "str = \"abcd\"\n",
        " \n",
        "def string_length(str) :\n",
        "    if str == '':\n",
        "        return 0\n",
        "    else :\n",
        "        return 1 + string_length(str[1:])\n",
        "\n",
        "# Driver Code\n",
        "print (string_length(str))"
      ],
      "metadata": {
        "colab": {
          "base_uri": "https://localhost:8080/"
        },
        "id": "v7LpW5vmPhPo",
        "outputId": "63fe883b-8904-4842-f466-914fabf90f4e"
      },
      "execution_count": 14,
      "outputs": [
        {
          "output_type": "stream",
          "name": "stdout",
          "text": [
            "4\n"
          ]
        }
      ]
    },
    {
      "cell_type": "markdown",
      "source": [
        "# **Question 5**\n",
        "\n",
        "We are given a string S, we need to find count of all contiguous substrings starting and ending with same character.\n",
        "\n",
        "**Examples :**\n",
        "\n",
        "    Input  : S = \"abcab\"\n",
        "    Output : 7\n",
        "\n",
        "    There are 15 substrings of \"abcab\"\n",
        "    a, ab, abc, abca, abcab, b, bc, bca\n",
        "    bcab, c, ca, cab, a, ab, b\n",
        "\n",
        "    Out of the above substrings, there\n",
        "    are 7 substrings : a, abca, b, bcab,\n",
        "    c, a and b.\n",
        "\n",
        "    Input  : S = \"aba\"\n",
        "    Output : 4\n",
        "    \n",
        "    The substrings are a, b, a and aba\n"
      ],
      "metadata": {
        "id": "Nb0YMjuoJtRk"
      }
    },
    {
      "cell_type": "code",
      "source": [
        "MAX_CHAR = 26; \n",
        " \n",
        "def countSubstringWithEqualEnds(s):\n",
        "    result = 0;\n",
        "    n = len(s);\n",
        " \n",
        "    count = [0]*MAX_CHAR;\n",
        "    for i in range(n):\n",
        "        count[ord(s[i])-ord('a')]+=1;\n",
        "     \n",
        "    for i in range(MAX_CHAR):\n",
        "        result += (count[i]*(count[i]+1)//2);\n",
        " \n",
        "    return result;\n",
        " \n",
        "# Driver code\n",
        "s = \"abcab\";\n",
        "print(countSubstringWithEqualEnds(s))"
      ],
      "metadata": {
        "colab": {
          "base_uri": "https://localhost:8080/"
        },
        "id": "vC3QdxCdPf9m",
        "outputId": "d188bd79-2ada-463c-c0b5-dc13763b0003"
      },
      "execution_count": 18,
      "outputs": [
        {
          "output_type": "stream",
          "name": "stdout",
          "text": [
            "7\n"
          ]
        }
      ]
    },
    {
      "cell_type": "code",
      "source": [
        "def countSubstrs(str, i, j, n): \n",
        "    # base cases\n",
        "    if (n == 1):\n",
        "        return 1\n",
        "    if (n <= 0):\n",
        "        return 0\n",
        " \n",
        "    res = (countSubstrs(str, i + 1, j, n - 1)\n",
        "        + countSubstrs(str, i, j - 1, n - 1)\n",
        "        - countSubstrs(str, i + 1, j - 1, n - 2))    \n",
        " \n",
        "    if (str[i] == str[j]):\n",
        "        res += 1\n",
        " \n",
        "    return res\n",
        " \n",
        "# driver code\n",
        "str = \"abcab\"\n",
        "n = len(str)\n",
        "print(countSubstrs(str, 0, n - 1, n))"
      ],
      "metadata": {
        "colab": {
          "base_uri": "https://localhost:8080/"
        },
        "id": "IWjibzvSpUgV",
        "outputId": "928687ad-3044-498e-bc42-73ef40c36671"
      },
      "execution_count": 39,
      "outputs": [
        {
          "output_type": "stream",
          "name": "stdout",
          "text": [
            "7\n"
          ]
        }
      ]
    },
    {
      "cell_type": "markdown",
      "source": [
        "# **Question 6**\n",
        "\n",
        "The [tower of Hanoi](https://en.wikipedia.org/wiki/Tower_of_Hanoi) is a famous puzzle where we have three rods and **N** disks. The objective of the puzzle is to move the entire stack to another rod. You are given the number of discs **N**. Initially, these discs are in the rod 1. You need to print all the steps of discs movement so that all the discs reach the 3rd rod. Also, you need to find the total moves.**Note:** The discs are arranged such that the **top disc is numbered 1** and the **bottom-most disc is numbered N**. Also, all the discs have **different sizes** and a bigger disc **cannot** be put on the top of a smaller disc. Refer the provided link to get a better clarity about the puzzle.\n",
        "\n",
        "**Example 1:**\n",
        "\n",
        "            Input:\n",
        "            N = 2\n",
        "            Output:\n",
        "            move disk 1 from rod 1 to rod 2\n",
        "            move disk 2 from rod 1 to rod 3\n",
        "            move disk 1 from rod 2 to rod 3\n",
        "            3\n",
        "            Explanation:For N=2 , steps will be\n",
        "            as follows in the example and total\n",
        "            3 steps will be taken.\n",
        "\n",
        "**Example 2:**\n",
        "\n",
        "            Input:\n",
        "            N = 3\n",
        "            Output:\n",
        "            move disk 1 from rod 1 to rod 3\n",
        "            move disk 2 from rod 1 to rod 2\n",
        "            move disk 1 from rod 3 to rod 2\n",
        "            move disk 3 from rod 1 to rod 3\n",
        "            move disk 1 from rod 2 to rod 1\n",
        "            move disk 2 from rod 2 to rod 3\n",
        "            move disk 1 from rod 1 to rod 3\n",
        "            7\n",
        "            Explanation:For N=3 , steps will be\n",
        "            as follows in the example and total\n",
        "            7 steps will be taken."
      ],
      "metadata": {
        "id": "UH2x_pd_JtAR"
      }
    },
    {
      "cell_type": "code",
      "source": [
        "def TowerOfHanoi(n , source, destination, auxiliary):\n",
        "    if n==1:\n",
        "        print (\"Move disk 1 from rod\",source,\"to rod\",destination)\n",
        "        return\n",
        "    TowerOfHanoi(n-1, source, auxiliary, destination)\n",
        "    print (\"Move disk\",n,\"from rod\",source,\"to rod\",destination)\n",
        "    TowerOfHanoi(n-1, auxiliary, destination, source)\n",
        "         \n",
        "# Driver code\n",
        "n = int(input())\n",
        "TowerOfHanoi(n,1,2,3)"
      ],
      "metadata": {
        "colab": {
          "base_uri": "https://localhost:8080/"
        },
        "id": "owMEBuOHPeN4",
        "outputId": "a0a17317-1164-4a23-9a93-5bc8e2c8bcdd"
      },
      "execution_count": 23,
      "outputs": [
        {
          "output_type": "stream",
          "name": "stdout",
          "text": [
            "3\n",
            "Move disk 1 from rod 1 to rod 2\n",
            "Move disk 2 from rod 1 to rod 3\n",
            "Move disk 1 from rod 2 to rod 3\n",
            "Move disk 3 from rod 1 to rod 2\n",
            "Move disk 1 from rod 3 to rod 1\n",
            "Move disk 2 from rod 3 to rod 2\n",
            "Move disk 1 from rod 1 to rod 2\n"
          ]
        }
      ]
    },
    {
      "cell_type": "markdown",
      "source": [
        "# **Question 7**\n",
        "\n",
        "Given a string **str**, the task is to print all the permutations of **str**. A **permutation** is an arrangement of all or part of a set of objects, with regard to the order of the arrangement. For instance, the words ‘bat’ and ‘tab’ represents two distinct permutation (or arrangements) of a similar three letter word.\n",
        "\n",
        "**Examples:**\n",
        "\n",
        "**Input:** str = “cd”\n",
        "\n",
        "**Output:** cd dc\n",
        "\n",
        "**Input:** str = “abb”\n",
        "\n",
        "**Output:** abb abb bab bba bab bba"
      ],
      "metadata": {
        "id": "UU39-D9qJs1B"
      }
    },
    {
      "cell_type": "code",
      "source": [
        "def permute(s, answer):\n",
        "    if (len(s) == 0):\n",
        "        print(answer, end=\"  \")\n",
        "        return\n",
        " \n",
        "    for i in range(len(s)):\n",
        "        ch = s[i]\n",
        "        left_substr = s[0:i]\n",
        "        right_substr = s[i + 1:]\n",
        "        rest = left_substr + right_substr\n",
        "        permute(rest, answer + ch)\n",
        "  \n",
        "# Driver Code\n",
        "answer = \"\"\n",
        "s = input(\"Enter some string: \")\n",
        " \n",
        "permute(s, answer)"
      ],
      "metadata": {
        "colab": {
          "base_uri": "https://localhost:8080/"
        },
        "id": "xKyRNqG6lCVt",
        "outputId": "e2de9af4-d942-450b-8508-ddb97cd17ea5"
      },
      "execution_count": 28,
      "outputs": [
        {
          "output_type": "stream",
          "name": "stdout",
          "text": [
            "Enter some string: abb\n",
            "abb  abb  bab  bba  bab  bba  "
          ]
        }
      ]
    },
    {
      "cell_type": "markdown",
      "source": [
        "# **Question 8**\n",
        "\n",
        "Given a string, count total number of consonants in it. A consonant is an English alphabet character that is not vowel (a, e, i, o and u). Examples of constants are b, c, d, f, and g.\n",
        "\n",
        "**Examples :**\n",
        "\n",
        "    Input : abc de\n",
        "    Output : 3\n",
        "    There are three consonants b, c and d.\n",
        "\n",
        "    Input : geeksforgeeks portal\n",
        "    Output : 12"
      ],
      "metadata": {
        "id": "1HZDdG0zJsxZ"
      }
    },
    {
      "cell_type": "code",
      "source": [
        "def isConsonant(ch):\n",
        "  ch = ch.upper()\n",
        "  return not (ch == 'A' or ch == 'E' or \n",
        "                ch == 'I' or ch == 'O' or \n",
        "                ch == 'U') and ord(ch) >= 65 and ord(ch) <= 90\n",
        "  \n",
        "def totalConsonants(string, n):      \n",
        "  if n == 1:\n",
        "    return isConsonant(string[0])\n",
        "\n",
        "  return totalConsonants(string, n - 1) + isConsonant(string[n-1])\n",
        "  \n",
        "  \n",
        "# Driver code\n",
        "string = \"geeksforgeeks portal\"\n",
        "print(totalConsonants(string, len(string)))"
      ],
      "metadata": {
        "colab": {
          "base_uri": "https://localhost:8080/"
        },
        "id": "D0v5CHjOPcwS",
        "outputId": "8eb2b272-fe94-4089-d605-0a4cfadcfef7"
      },
      "execution_count": 38,
      "outputs": [
        {
          "output_type": "stream",
          "name": "stdout",
          "text": [
            "12\n"
          ]
        }
      ]
    }
  ]
}