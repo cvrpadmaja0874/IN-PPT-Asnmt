{
  "nbformat": 4,
  "nbformat_minor": 0,
  "metadata": {
    "colab": {
      "provenance": [],
      "authorship_tag": "ABX9TyMRVGR2T9s551drxHZCjDbg",
      "include_colab_link": true
    },
    "kernelspec": {
      "name": "python3",
      "display_name": "Python 3"
    },
    "language_info": {
      "name": "python"
    }
  },
  "cells": [
    {
      "cell_type": "markdown",
      "metadata": {
        "id": "view-in-github",
        "colab_type": "text"
      },
      "source": [
        "<a href=\"https://colab.research.google.com/github/cvrpadmaja0874/IN-PPT-Asnmt/blob/main/IN_PPT_A9_09062023.ipynb\" target=\"_parent\"><img src=\"https://colab.research.google.com/assets/colab-badge.svg\" alt=\"Open In Colab\"/></a>"
      ]
    },
    {
      "cell_type": "markdown",
      "source": [
        "# **Question 1**\n",
        "\n",
        "Given an integer `n`, return *`true` if it is a power of two. Otherwise, return `false`*.\n",
        "\n",
        "An integer `n` is a power of two, if there exists an integer `x` such that `n == 2x`.\n",
        "\n",
        "**Example 1:**\n",
        "Input: n = 1 \n",
        "\n",
        "Output: true\n",
        "\n",
        "**Example 2:**\n",
        "Input: n = 16 \n",
        "\n",
        "Output: true\n",
        "\n",
        "**Example 3:**\n",
        "Input: n = 3 \n",
        "\n",
        "Output: false"
      ],
      "metadata": {
        "id": "6maM804B-0rq"
      }
    },
    {
      "cell_type": "code",
      "source": [
        "def isPowerOfTwo(n):\n",
        "  return n and not (n & n - 1)\n",
        "\n",
        "#Driver code\n",
        "n = 6\n",
        "isPowerOfTwo(n)"
      ],
      "metadata": {
        "colab": {
          "base_uri": "https://localhost:8080/"
        },
        "id": "EiMt-cN1_JKE",
        "outputId": "34b19055-d725-4898-829f-714c1a0dd1e8"
      },
      "execution_count": 2,
      "outputs": [
        {
          "output_type": "execute_result",
          "data": {
            "text/plain": [
              "False"
            ]
          },
          "metadata": {},
          "execution_count": 2
        }
      ]
    },
    {
      "cell_type": "code",
      "source": [
        "## Using Recursion\n",
        "def is_power(n):\n",
        "  n = n/2\n",
        "  if n == 2:\n",
        "    return True\n",
        "  elif n > 2:\n",
        "    return is_power(n)\n",
        "  else:\n",
        "    return False\n",
        "\n",
        "#Driver code\n",
        "n = 16\n",
        "isPowerOfTwo(n)"
      ],
      "metadata": {
        "colab": {
          "base_uri": "https://localhost:8080/"
        },
        "id": "BuLkMj6jC5Bs",
        "outputId": "b09119bb-8602-4f23-81c6-a95ae91a81e6"
      },
      "execution_count": 4,
      "outputs": [
        {
          "output_type": "execute_result",
          "data": {
            "text/plain": [
              "True"
            ]
          },
          "metadata": {},
          "execution_count": 4
        }
      ]
    },
    {
      "cell_type": "markdown",
      "source": [
        "# **Question 2**\n",
        "\n",
        "Given a number n, find the sum of the first natural numbers.\n",
        "\n",
        "**Example 1:**\n",
        "\n",
        "Input: n = 3 \n",
        "\n",
        "Output: 6\n",
        "\n",
        "**Example 2:**\n",
        "\n",
        "Input  : 5 \n",
        "\n",
        "Output : 15"
      ],
      "metadata": {
        "id": "0U1J9BC3_JyC"
      }
    },
    {
      "cell_type": "code",
      "source": [
        "def recurSum(n):\n",
        "    if n <= 1:\n",
        "        return n\n",
        "    return n + recurSum(n - 1)\n",
        "  \n",
        "# Driver code\n",
        "n = 5\n",
        "print(recurSum(n))"
      ],
      "metadata": {
        "colab": {
          "base_uri": "https://localhost:8080/"
        },
        "id": "zuopCLt4_UjM",
        "outputId": "3ec7d18f-1e39-438e-e9df-d69350f61507"
      },
      "execution_count": 5,
      "outputs": [
        {
          "output_type": "stream",
          "name": "stdout",
          "text": [
            "15\n"
          ]
        }
      ]
    },
    {
      "cell_type": "markdown",
      "source": [
        "# **Question 3**\n",
        "\n",
        "****Given a positive integer, N. Find the factorial of N. \n",
        "\n",
        "**Example 1:**\n",
        "\n",
        "Input: N = 5 \n",
        "\n",
        "Output: 120\n",
        "\n",
        "**Example 2:**\n",
        "\n",
        "Input: N = 4\n",
        "\n",
        "Output: 24"
      ],
      "metadata": {
        "id": "RAqkwDGC_VFz"
      }
    },
    {
      "cell_type": "code",
      "source": [
        "def recurFact(n):\n",
        "    if n <= 1:\n",
        "        return n\n",
        "    return n * recurFact(n - 1)\n",
        "  \n",
        "# Driver code\n",
        "n = 5\n",
        "print(recurFact(n))"
      ],
      "metadata": {
        "colab": {
          "base_uri": "https://localhost:8080/"
        },
        "id": "aM0jgZ45_cPU",
        "outputId": "bc349803-f0aa-4214-90e9-23eef490de7f"
      },
      "execution_count": 6,
      "outputs": [
        {
          "output_type": "stream",
          "name": "stdout",
          "text": [
            "120\n"
          ]
        }
      ]
    },
    {
      "cell_type": "markdown",
      "source": [
        "# **Question 4**\n",
        "\n",
        "Given a number N and a power P, the task is to find the exponent of this number raised to the given power, i.e. N^P.\n",
        "\n",
        "**Example 1 :** \n",
        "\n",
        "Input: N = 5, P = 2\n",
        "\n",
        "Output: 25\n",
        "\n",
        "**Example 2 :**\n",
        "Input: N = 2, P = 5\n",
        "\n",
        "Output: 32"
      ],
      "metadata": {
        "id": "ezGHLy5w_cvd"
      }
    },
    {
      "cell_type": "code",
      "source": [
        "def recurPower(n,p):\n",
        "  if p == 0:\n",
        "    return 1\n",
        "  return (n*recurPower(n, p-1))\n",
        "  \n",
        "# Driver code\n",
        "n = 5\n",
        "p = 2\n",
        "print(recurPower(n,p))"
      ],
      "metadata": {
        "colab": {
          "base_uri": "https://localhost:8080/"
        },
        "id": "lNZ6Yn-n_k6g",
        "outputId": "f43968c8-77e9-483d-d4d0-53d44ea1e31b"
      },
      "execution_count": 8,
      "outputs": [
        {
          "output_type": "stream",
          "name": "stdout",
          "text": [
            "25\n"
          ]
        }
      ]
    },
    {
      "cell_type": "markdown",
      "source": [
        "# **Question 5**\n",
        "\n",
        "Given an array of integers **arr**, the task is to find maximum element of that array using recursion.\n",
        "\n",
        "**Example 1:**\n",
        "\n",
        "Input: arr = {1, 4, 3, -5, -4, 8, 6};\n",
        "Output: 8\n",
        "\n",
        "**Example 2:**\n",
        "\n",
        "Input: arr = {1, 4, 45, 6, 10, -8};\n",
        "Output: 45"
      ],
      "metadata": {
        "id": "dwczWEfq_lZl"
      }
    },
    {
      "cell_type": "code",
      "source": [
        "def findMax(a,n):\n",
        "  if (n == 1):\n",
        "    return a[0]\n",
        "  return max(a[n - 1], findMax(a, n - 1))\n",
        "\n",
        "# Diver Code\n",
        "arr = [1, 4, 3, -5, -4, 8, 6]\n",
        "length = len(arr)\n",
        "findMax(arr,length)"
      ],
      "metadata": {
        "colab": {
          "base_uri": "https://localhost:8080/"
        },
        "id": "Xfg4tfLG_x_0",
        "outputId": "676c24b4-b28a-483e-c90f-2ef667976942"
      },
      "execution_count": 9,
      "outputs": [
        {
          "output_type": "execute_result",
          "data": {
            "text/plain": [
              "8"
            ]
          },
          "metadata": {},
          "execution_count": 9
        }
      ]
    },
    {
      "cell_type": "markdown",
      "source": [
        "# **Question 6**\n",
        "\n",
        "Given first term (a), common difference (d) and a integer N of the Arithmetic Progression series, the task is to find Nth term of the series.\n",
        "\n",
        "**Example 1:**\n",
        "\n",
        "Input : a = 2 d = 1 N = 5\n",
        "\n",
        "Output : 6\n",
        "\n",
        "The 5th term of the series is : 6\n",
        "\n",
        "**Example 2:**\n",
        "\n",
        "Input : a = 5 d = 2 N = 10\n",
        "\n",
        "Output : 23\n",
        "\n",
        "The 10th term of the series is : 23"
      ],
      "metadata": {
        "id": "3MpzaroF_ysp"
      }
    },
    {
      "cell_type": "code",
      "source": [
        "def nthTermOfAP(a, d, n) : \n",
        "  return (a + (n - 1) * d)\n",
        "\n",
        "#Driver Code\n",
        "a =5\n",
        "d = 2\n",
        "n = 10\n",
        "nthTermOfAP(a, d, n)"
      ],
      "metadata": {
        "colab": {
          "base_uri": "https://localhost:8080/"
        },
        "id": "gDWDIKgU_6rv",
        "outputId": "97de8ed7-fb17-402e-d16f-5c54c863f659"
      },
      "execution_count": 11,
      "outputs": [
        {
          "output_type": "execute_result",
          "data": {
            "text/plain": [
              "23"
            ]
          },
          "metadata": {},
          "execution_count": 11
        }
      ]
    },
    {
      "cell_type": "markdown",
      "source": [
        "# **Question 7**\n",
        "\n",
        "Given a string S, the task is to write a program to print all permutations of a given string.\n",
        "\n",
        "**Example 1:**\n",
        "\n",
        "***Input:***\n",
        "\n",
        "*S = “ABC”*\n",
        "\n",
        "***Output:***\n",
        "\n",
        "*“ABC”, “ACB”, “BAC”, “BCA”, “CBA”, “CAB”*\n",
        "\n",
        "**Example 2:**\n",
        "\n",
        "***Input:***\n",
        "\n",
        "*S = “XY”*\n",
        "\n",
        "***Output:***\n",
        "\n",
        "*“XY”, “YX”*"
      ],
      "metadata": {
        "id": "3mm7D0Fd_7NU"
      }
    },
    {
      "cell_type": "code",
      "source": [
        "answer = []\n",
        "\n",
        "def toString(List):\n",
        "    return ''.join(List)\n",
        " \n",
        "def permute(a, l, r):\n",
        "    if l == r:\n",
        "        answer.append(toString(a))        \n",
        "    else:\n",
        "        for i in range(l, r):\n",
        "            a[l], a[i] = a[i], a[l]\n",
        "            permute(a, l+1, r)\n",
        "            a[l], a[i] = a[i], a[l]  # backtrack\n",
        " \n",
        "# Driver code\n",
        "string = \"ABC\"\n",
        "n = len(string)\n",
        "a = list(string)\n",
        " \n",
        "# Function call\n",
        "permute(a, 0, n)\n",
        "print(answer)"
      ],
      "metadata": {
        "colab": {
          "base_uri": "https://localhost:8080/"
        },
        "id": "M9PdSI9ZHvJT",
        "outputId": "62841706-e1e4-4aad-aace-55150b115b85"
      },
      "execution_count": 14,
      "outputs": [
        {
          "output_type": "stream",
          "name": "stdout",
          "text": [
            "['ABC', 'ACB', 'BAC', 'BCA', 'CBA', 'CAB']\n"
          ]
        }
      ]
    },
    {
      "cell_type": "markdown",
      "source": [
        "# **Question 8**\n",
        "\n",
        "Given an array, find a product of all array elements.\n",
        "\n",
        "**Example 1:**\n",
        "\n",
        "Input  : arr[] = {1, 2, 3, 4, 5}\n",
        "Output : 120\n",
        "**Example 2:**\n",
        "\n",
        "Input  : arr[] = {1, 6, 3}\n",
        "Output : 18"
      ],
      "metadata": {
        "id": "9LoNa8q5AFYx"
      }
    },
    {
      "cell_type": "code",
      "source": [
        "def findProduct(a,n):\n",
        "    if n < 0:\n",
        "        return 0\n",
        "    elif n == 1:\n",
        "        return a[0]\n",
        "    else:\n",
        "      return a[n-1] * findProduct(a, n-1)\n",
        "  \n",
        "# Driver code\n",
        "#arr = [1, 2, 3, 4, 5]\n",
        "arr = [1, 6, 3]\n",
        "n = len(arr)\n",
        "findProduct(arr,n)"
      ],
      "metadata": {
        "colab": {
          "base_uri": "https://localhost:8080/"
        },
        "id": "wL0MmyqDAE41",
        "outputId": "669fe638-5e34-4843-e9b6-4724683b045e"
      },
      "execution_count": 18,
      "outputs": [
        {
          "output_type": "execute_result",
          "data": {
            "text/plain": [
              "18"
            ]
          },
          "metadata": {},
          "execution_count": 18
        }
      ]
    }
  ]
}