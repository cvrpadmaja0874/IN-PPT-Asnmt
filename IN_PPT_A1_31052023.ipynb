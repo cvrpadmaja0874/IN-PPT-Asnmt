{
  "nbformat": 4,
  "nbformat_minor": 0,
  "metadata": {
    "colab": {
      "provenance": [],
      "authorship_tag": "ABX9TyMgydhsD8d9U8AXh4+asxLI",
      "include_colab_link": true
    },
    "kernelspec": {
      "name": "python3",
      "display_name": "Python 3"
    },
    "language_info": {
      "name": "python"
    }
  },
  "cells": [
    {
      "cell_type": "markdown",
      "metadata": {
        "id": "view-in-github",
        "colab_type": "text"
      },
      "source": [
        "<a href=\"https://colab.research.google.com/github/cvrpadmaja0874/IN-PPT-Asnmt/blob/main/IN_PPT_A1_31052023.ipynb\" target=\"_parent\"><img src=\"https://colab.research.google.com/assets/colab-badge.svg\" alt=\"Open In Colab\"/></a>"
      ]
    },
    {
      "cell_type": "markdown",
      "source": [
        "# **Question 1**\n",
        "Given an array of integers nums and an integer target, return indices of the two numbers such that they add up to target.\n",
        "\n",
        "You may assume that each input would have exactly one solution, and you may not use the same element twice.\n",
        "\n",
        "You can return the answer in any order.\n",
        "\n",
        "**Example:**\n",
        "Input: nums = [2,7,11,15], target = 9\n",
        "Output0 [0,1]\n",
        "\n",
        "**Explanation:** Because nums[0] + nums[1] == 9, we return [0, 1][\n",
        "\n",
        "</aside>"
      ],
      "metadata": {
        "id": "9bGFpyQ59Wm9"
      }
    },
    {
      "cell_type": "code",
      "source": [
        "# Solution 1\n",
        "def twoSum(nums, target):\n",
        "        \n",
        "        store = {}\n",
        "        \n",
        "        for i, ele in enumerate(nums):\n",
        "            \n",
        "            if target - ele in store:\n",
        "                return [store[target - ele], i]\n",
        "            else:\n",
        "                store[ele] = i\n",
        "\n",
        "# Driver Code\n",
        "myList = [2,7,11,15]\n",
        "sum = 9\n",
        "\n",
        "print(twoSum(myList,sum))\n",
        "\n"
      ],
      "metadata": {
        "colab": {
          "base_uri": "https://localhost:8080/"
        },
        "id": "yO-4EaMO9iW9",
        "outputId": "0631118c-c888-4143-ce67-ae8101664f77"
      },
      "execution_count": null,
      "outputs": [
        {
          "output_type": "stream",
          "name": "stdout",
          "text": [
            "[0, 1]\n"
          ]
        }
      ]
    },
    {
      "cell_type": "code",
      "source": [
        "# Solution 2 \n",
        "\n",
        "def twoSum(nums, target):\n",
        "        hashmap = {}\n",
        "        for i in range(len(nums)):\n",
        "            complement = target - nums[i]\n",
        "            if complement in hashmap:\n",
        "                return [i, hashmap[complement]]\n",
        "            hashmap[nums[i]] = i\n",
        "            \n",
        "\n",
        "# Driver Code\n",
        "myList = [2,7,11,15]\n",
        "sum = 9\n",
        "\n",
        "print(twoSum(myList,sum))\n",
        "\n"
      ],
      "metadata": {
        "colab": {
          "base_uri": "https://localhost:8080/"
        },
        "id": "ha1vyYTE_eXQ",
        "outputId": "14010149-0377-4b92-e8ae-34e585ea8f83"
      },
      "execution_count": null,
      "outputs": [
        {
          "output_type": "stream",
          "name": "stdout",
          "text": [
            "[1, 0]\n"
          ]
        }
      ]
    },
    {
      "cell_type": "markdown",
      "source": [
        "# **Question 2**\n",
        "Given an integer array nums and an integer val, remove all occurrences of val in nums in-place. The order of the elements may be changed. Then return the number of elements in nums which are not equal to val.\n",
        "\n",
        "Consider the number of elements in nums which are not equal to val be k, to get accepted, you need to do the following things:\n",
        "\n",
        "- Change the array nums such that the first k elements of nums contain the elements which are not equal to val. The remaining elements of nums are not important as well as the size of nums.\n",
        "- Return k.\n",
        "\n",
        "**Example :**\n",
        "Input: nums = [3,2,2,3], val = 3\n",
        "Output: 2, nums = [2,2,_*,_*]\n",
        "\n",
        "**Explanation:** Your function should return k = 2, with the first two elements of nums being 2. It does not matter what you leave beyond the returned k (hence they are underscores)"
      ],
      "metadata": {
        "id": "4QghorUoAEoI"
      }
    },
    {
      "cell_type": "code",
      "source": [
        "## Remove Duplicates and \n",
        "def removeDuplicates(nums,val):\n",
        "  result = list(filter(lambda a: a != val, nums))\n",
        "  return len(result)\n",
        "        \n",
        "\n",
        "# Driver \n",
        "nums = [3,2,2,3]\n",
        "val = 2\n",
        "\n",
        "print(removeDuplicates(nums,val))\n"
      ],
      "metadata": {
        "colab": {
          "base_uri": "https://localhost:8080/"
        },
        "id": "etwhs0RvAxe4",
        "outputId": "9cd8fb15-5db3-47a7-b083-fccf381b24d1"
      },
      "execution_count": 5,
      "outputs": [
        {
          "output_type": "stream",
          "name": "stdout",
          "text": [
            "2\n"
          ]
        }
      ]
    },
    {
      "cell_type": "markdown",
      "source": [
        "# **Question 3**\n",
        "\n",
        "Given a sorted array of distinct integers and a target value, return the index if the target is found. If not, return the index where it would be if it were inserted in order.\n",
        "\n",
        "You must write an algorithm with O(log n) runtime complexity.\n",
        "\n",
        "**Example 1:**\n",
        "Input: nums = [1,3,5,6], target = 5\n",
        "\n",
        "Output: 2\n"
      ],
      "metadata": {
        "id": "DuKcKnGXEVyM"
      }
    },
    {
      "cell_type": "code",
      "source": [
        "# To return the index of Target Value\n",
        "\n",
        "def targetIndex(nums,target):\n",
        "\n",
        "  left, right = 0, len(nums)\n",
        "\n",
        "  while left < right:\n",
        "    mid = (left + right) >> 1\n",
        "    if nums[mid] >= target:\n",
        "      right = mid\n",
        "    else:\n",
        "      left = mid + 1\n",
        "  \n",
        "  return left\n",
        "\n",
        "# Driver \n",
        "# Test case 1\n",
        "nums = [1,3,5,6]\n",
        "target = 5\n",
        "\n",
        "print(targetIndex(nums,target))\n",
        "\n",
        "# Test case 2\n",
        "nums = [1,3,5,6]\n",
        "target = 8\n",
        "\n",
        "print(targetIndex(nums,target))"
      ],
      "metadata": {
        "id": "m7h_QyVXE5cI",
        "colab": {
          "base_uri": "https://localhost:8080/"
        },
        "outputId": "4953c464-e36d-4dde-8979-497954bcba2c"
      },
      "execution_count": 7,
      "outputs": [
        {
          "output_type": "stream",
          "name": "stdout",
          "text": [
            "2\n",
            "4\n"
          ]
        }
      ]
    },
    {
      "cell_type": "markdown",
      "source": [
        "# **Question 4**\n",
        "\n",
        "You are given a large integer represented as an integer array digits, where each digits[i] is the ith digit of the integer. The digits are ordered from most significant to least significant in left-to-right order. The large integer does not contain any leading 0's.\n",
        "\n",
        "Increment the large integer by one and return the resulting array of digits.\n",
        "\n",
        "**Example 1:**\n",
        "Input: digits = [1,2,3]\n",
        "Output: [1,2,4]\n",
        "\n",
        "**Explanation:** The array represents the integer 123.\n",
        "\n",
        "Incrementing by one gives 123 + 1 = 124.\n",
        "Thus, the result should be [1,2,4].\n"
      ],
      "metadata": {
        "id": "HD0sQRdREsnv"
      }
    },
    {
      "cell_type": "code",
      "source": [
        "def addOne(digits):\n",
        "    carry = 1\n",
        "        \n",
        "    for i in range(len(digits)-1, -1, -1):\n",
        "            \n",
        "        if digits[i] + carry > 9:\n",
        "            digits[i] = (digits[i] + carry) % 10\n",
        "            carry = 1\n",
        "        else:\n",
        "            digits[i] = digits[i] + carry\n",
        "            carry = 0\n",
        "    if carry == 1:\n",
        "        digits.insert(0, 1)\n",
        "        \n",
        "    return digits\n",
        "\n",
        "n = list(map(int, input().split()))\n",
        "print(addOne(n))"
      ],
      "metadata": {
        "id": "FtYJBVXWE60w",
        "colab": {
          "base_uri": "https://localhost:8080/"
        },
        "outputId": "a97ecfb2-858d-4726-b1e5-3d18a079ab93"
      },
      "execution_count": 16,
      "outputs": [
        {
          "output_type": "stream",
          "name": "stdout",
          "text": [
            "9 9 9\n",
            "[1, 0, 0, 0]\n"
          ]
        }
      ]
    },
    {
      "cell_type": "markdown",
      "source": [
        "# **Question 5**\n",
        "\n",
        "You are given two integer arrays nums1 and nums2, sorted in non-decreasing order, and two integers m and n, representing the number of elements in nums1 and nums2 respectively.\n",
        "\n",
        "Merge nums1 and nums2 into a single array sorted in non-decreasing order.\n",
        "\n",
        "The final sorted array should not be returned by the function, but instead be stored inside the array nums1. To accommodate this, nums1 has a length of m + n, where the first m elements denote the elements that should be merged, and the last n elements are set to 0 and should be ignored. nums2 has a length of n.\n",
        "\n",
        "**Example 1:**\n",
        "Input: nums1 = [1,2,3,0,0,0], m = 3, nums2 = [2,5,6], n = 3\n",
        "Output: [1,2,2,3,5,6]\n",
        "\n",
        "**Explanation:** The arrays we are merging are [1,2,3] and [2,5,6].\n",
        "The result of the merge is [1,2,2,3,5,6] with the underlined elements coming from nums1."
      ],
      "metadata": {
        "id": "cr4frn8AE7vQ"
      }
    },
    {
      "cell_type": "code",
      "source": [
        "def mergeList(nums1, nums2, m, n):\n",
        "  k = m + n - 1\n",
        "  i, j = m - 1, n - 1\n",
        "  while j >= 0:\n",
        "    if i >= 0 and nums1[i] > nums2[j]:\n",
        "      nums1[k] = nums1[i]\n",
        "      i -= 1\n",
        "    else:\n",
        "      nums1[k] = nums2[j]\n",
        "      j -= 1\n",
        "    k -= 1\n",
        "  return nums1\n",
        "\n",
        "nums1 = [1,2,3,0,0,0]\n",
        "m = 3\n",
        "nums2 = [2,5,6]\n",
        "n = 3\n",
        "print(mergeList(nums1, nums2,m,n))"
      ],
      "metadata": {
        "id": "l7CNOz7jFQNq",
        "colab": {
          "base_uri": "https://localhost:8080/"
        },
        "outputId": "3e18375b-6149-4c2a-c0cd-6af877a2f948"
      },
      "execution_count": 18,
      "outputs": [
        {
          "output_type": "stream",
          "name": "stdout",
          "text": [
            "[1, 2, 2, 3, 5, 6]\n"
          ]
        }
      ]
    },
    {
      "cell_type": "markdown",
      "source": [
        "# **Question 6**\n",
        "\n",
        "Given an integer array nums, return true if any value appears at least twice in the array, and return false if every element is distinct.\n",
        "\n",
        "**Example 1:**\n",
        "Input: nums = [1,2,3,1]\n",
        "\n",
        "Output: true"
      ],
      "metadata": {
        "id": "DotZFE3QFQpx"
      }
    },
    {
      "cell_type": "code",
      "source": [
        "nums = [1,2,3]\n",
        "print(len(set(nums))!=len(nums))"
      ],
      "metadata": {
        "id": "2-KJLi-_FfVq",
        "colab": {
          "base_uri": "https://localhost:8080/"
        },
        "outputId": "4bf16590-19e1-4d1a-81c9-5e5ff17bd021"
      },
      "execution_count": 21,
      "outputs": [
        {
          "output_type": "stream",
          "name": "stdout",
          "text": [
            "False\n"
          ]
        }
      ]
    },
    {
      "cell_type": "markdown",
      "source": [
        "# **Question 7**\n",
        "Given an integer array nums, move all 0's to the end of it while maintaining the relative order of the nonzero elements.\n",
        "\n",
        "Note that you must do this in-place without making a copy of the array.\n",
        "\n",
        "**Example 1:**\n",
        "Input: nums = [0,1,0,3,12]\n",
        "Output: [1,3,12,0,0]"
      ],
      "metadata": {
        "id": "8L3pQIwDFgMi"
      }
    },
    {
      "cell_type": "code",
      "source": [
        "def moveZeroes(nums):\n",
        "  n=len(nums)\n",
        "  for i in range(0,n):\n",
        "    if nums[i]==0:\n",
        "      nums.remove(nums[i])\n",
        "      nums.append(0)\n",
        "  return nums\n",
        "\n",
        "nums = [0,1,0,3,12]\n",
        "print(moveZeroes(nums))\n"
      ],
      "metadata": {
        "id": "gFJRm-TeFq7D",
        "colab": {
          "base_uri": "https://localhost:8080/"
        },
        "outputId": "893f8f19-746e-49d2-918b-41e843a896be"
      },
      "execution_count": 22,
      "outputs": [
        {
          "output_type": "stream",
          "name": "stdout",
          "text": [
            "[1, 3, 12, 0, 0]\n"
          ]
        }
      ]
    },
    {
      "cell_type": "markdown",
      "source": [
        "# **Question 8**\n",
        "\n",
        "You have a set of integers s, which originally contains all the numbers from 1 to n. Unfortunately, due to some error, one of the numbers in s got duplicated to another number in the set, which results in repetition of one number and loss of another number.\n",
        "\n",
        "You are given an integer array nums representing the data status of this set after the error.\n",
        "\n",
        "Find the number that occurs twice and the number that is missing and return them in the form of an array.\n",
        "\n",
        "**Example 1:**\n",
        "Input: nums = [1,2,2,4]\n",
        "Output: [2,3]"
      ],
      "metadata": {
        "id": "giU1xEawFru7"
      }
    },
    {
      "cell_type": "code",
      "source": [
        "def findMissingAndDuplicate(nums):\n",
        "    \n",
        "    n = len(nums)  # size of the array\n",
        "    repeating, missing = -1, -1\n",
        "\n",
        "    \n",
        "    for i in range(1, n+1):\n",
        "        \n",
        "        cnt = 0\n",
        "        for j in range(n):\n",
        "            if nums[j] == i:\n",
        "                cnt += 1\n",
        "\n",
        "        if cnt == 2:\n",
        "            repeating = i\n",
        "        elif cnt == 0:\n",
        "            missing = i\n",
        "\n",
        "        if repeating != -1 and missing != -1:\n",
        "            break\n",
        "\n",
        "    return [repeating, missing]\n",
        "\n",
        "## Driver Code\n",
        "nums = [1,2,2,4]\n",
        "print(findMissingAndDuplicate(nums))"
      ],
      "metadata": {
        "colab": {
          "base_uri": "https://localhost:8080/"
        },
        "id": "-EN0NfJqw38S",
        "outputId": "6e3ab86a-99a1-400f-9cb4-362179f46d91"
      },
      "execution_count": 23,
      "outputs": [
        {
          "output_type": "stream",
          "name": "stdout",
          "text": [
            "[2, 3]\n"
          ]
        }
      ]
    }
  ]
}