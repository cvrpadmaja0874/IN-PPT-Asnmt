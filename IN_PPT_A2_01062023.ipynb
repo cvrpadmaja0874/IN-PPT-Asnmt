{
  "nbformat": 4,
  "nbformat_minor": 0,
  "metadata": {
    "colab": {
      "provenance": [],
      "authorship_tag": "ABX9TyMFHtXryxi8iVpLMyJ+oP1Q",
      "include_colab_link": true
    },
    "kernelspec": {
      "name": "python3",
      "display_name": "Python 3"
    },
    "language_info": {
      "name": "python"
    }
  },
  "cells": [
    {
      "cell_type": "markdown",
      "metadata": {
        "id": "view-in-github",
        "colab_type": "text"
      },
      "source": [
        "<a href=\"https://colab.research.google.com/github/cvrpadmaja0874/IN-PPT-Asnmt/blob/main/IN_PPT_A2_01062023.ipynb\" target=\"_parent\"><img src=\"https://colab.research.google.com/assets/colab-badge.svg\" alt=\"Open In Colab\"/></a>"
      ]
    },
    {
      "cell_type": "markdown",
      "source": [
        "# **Question 1**\n",
        "Given an integer array nums of 2n integers, group these integers into n pairs (a1, b1), (a2, b2),..., (an, bn) such that the sum of min(ai, bi) for all i is maximized. Return the maximized sum.\n",
        "\n",
        "**Example 1:**\n",
        "Input: nums = [1,4,3,2]\n",
        "Output: 4\n",
        "\n",
        "**Explanation:** All possible pairings (ignoring the ordering of elements) are:\n",
        "\n",
        "1. (1, 4), (2, 3) -> min(1, 4) + min(2, 3) = 1 + 2 = 3\n",
        "2. (1, 3), (2, 4) -> min(1, 3) + min(2, 4) = 1 + 2 = 3\n",
        "3. (1, 2), (3, 4) -> min(1, 2) + min(3, 4) = 1 + 3 = 4\n",
        "So the maximum possible sum is 4\n"
      ],
      "metadata": {
        "id": "-Cq4TTrbeWVM"
      }
    },
    {
      "cell_type": "code",
      "source": [
        "def arrayPairSum(nums):\n",
        "  nums.sort()\n",
        "  i,ans=0,0\n",
        "  while i<len(nums):\n",
        "    ans+=min(nums[i],nums[i+1])\n",
        "    i+=2\n",
        "  return ans\n",
        "\n",
        "nums = [1,4,3,2]\n",
        "print(arrayPairSum(nums))"
      ],
      "metadata": {
        "colab": {
          "base_uri": "https://localhost:8080/"
        },
        "id": "uSAWMe_28PSj",
        "outputId": "90d50c5c-84b2-4e01-c477-663a5cc737ff"
      },
      "execution_count": 19,
      "outputs": [
        {
          "output_type": "stream",
          "name": "stdout",
          "text": [
            "4\n"
          ]
        }
      ]
    },
    {
      "cell_type": "markdown",
      "source": [
        "# **Question 2**\n",
        "Alice has n candies, where the ith candy is of type candyType[i]. Alice noticed that she started to gain weight, so she visited a doctor. \n",
        "\n",
        "The doctor advised Alice to only eat n / 2 of the candies she has (n is always even). Alice likes her candies very much, and she wants to eat the maximum number of different types of candies while still following the doctor's advice. \n",
        "\n",
        "Given the integer array candyType of length n, return the maximum number of different types of candies she can eat if she only eats n / 2 of them.\n",
        "\n",
        "Example 1:\n",
        "Input: candyType = [1,1,2,2,3,3]\n",
        "Output: 3\n",
        "\n",
        "Explanation: Alice can only eat 6 / 2 = 3 candies. Since there are only 3 types, she can eat one of each type."
      ],
      "metadata": {
        "id": "EqQX-iydh4Eq"
      }
    },
    {
      "cell_type": "code",
      "source": [
        "def distributeCandies(candyType):\n",
        "        return min(len(set(candyType)), len(candyType) // 2)\n",
        "\n",
        "candyType = [1,1,2,2,3,3]\n",
        "print(distributeCandies(candyType))"
      ],
      "metadata": {
        "colab": {
          "base_uri": "https://localhost:8080/"
        },
        "id": "V2Xbj3KZi3wr",
        "outputId": "dbaa7742-8957-42eb-fa7d-ae0c8305734e"
      },
      "execution_count": 2,
      "outputs": [
        {
          "output_type": "stream",
          "name": "stdout",
          "text": [
            "3\n"
          ]
        }
      ]
    },
    {
      "cell_type": "markdown",
      "source": [
        "# **Question 3**\n",
        "We define a harmonious array as an array where the difference between its maximum value\n",
        "and its minimum value is exactly 1.\n",
        "\n",
        "Given an integer array nums, return the length of its longest harmonious subsequence\n",
        "among all its possible subsequences.\n",
        "\n",
        "A subsequence of an array is a sequence that can be derived from the array by deleting some or no elements without changing the order of the remaining elements.\n",
        "\n",
        "**Example 1:**\n",
        "\n",
        "Input: nums = [1,3,2,2,5,2,3,7]\n",
        "\n",
        "Output: 5\n",
        "\n",
        "Explanation: The longest harmonious subsequence is [3,2,2,2,3]."
      ],
      "metadata": {
        "id": "lFBx28VJjwws"
      }
    },
    {
      "cell_type": "code",
      "source": [
        "def findLHS(nums):\n",
        "  freq = {}\n",
        "  for num in nums:\n",
        "    freq[num] = freq.get(num, 0) + 1\n",
        "    max_length = 0\n",
        "  for num in freq:\n",
        "    if num + 1 in freq:\n",
        "      max_length = max(max_length, freq[num] + freq[num + 1])\n",
        "\n",
        "  return max_length\n",
        "\n",
        "nums = [1,3,2,2,5,2,3,7]\n",
        "print(findLHS(nums))"
      ],
      "metadata": {
        "colab": {
          "base_uri": "https://localhost:8080/"
        },
        "id": "Ux1rpGqCkLlw",
        "outputId": "185d137a-e7d4-48be-8371-8657695adae5"
      },
      "execution_count": 3,
      "outputs": [
        {
          "output_type": "stream",
          "name": "stdout",
          "text": [
            "5\n"
          ]
        }
      ]
    },
    {
      "cell_type": "markdown",
      "source": [
        "# **Question 4**\n",
        "You have a long flowerbed in which some of the plots are planted, and some are not.\n",
        "However, flowers cannot be planted in adjacent plots.\n",
        "Given an integer array flowerbed containing 0's and 1's, where 0 means empty and 1 means not empty, and an integer n, return true if n new flowers can be planted in the flowerbed without violating the no-adjacent-flowers rule and false otherwise.\n",
        "\n",
        "**Example 1:**\n",
        "\n",
        "Input: flowerbed = [1,0,0,0,1], n = 1\n",
        "\n",
        "Output: true"
      ],
      "metadata": {
        "id": "v5KRfAqzkEMa"
      }
    },
    {
      "cell_type": "code",
      "source": [
        "def canPlaceFlowers(flowerbed, n):\n",
        "  count = 1\n",
        "  beds = 0\n",
        "\n",
        "  for bed in flowerbed:\n",
        "    if bed:\n",
        "      beds += (count - 1) // 2\n",
        "      count = 0\n",
        "    else:\n",
        "      count += 1\n",
        "        \n",
        "    beds += count // 2\n",
        "\n",
        "  return beds >= n\n",
        "\n",
        "flowerbed = [1,0,0,0,1]\n",
        "n = 1\n",
        "\n",
        "print(canPlaceFlowers(flowerbed, n))"
      ],
      "metadata": {
        "colab": {
          "base_uri": "https://localhost:8080/"
        },
        "id": "hm7E-fSDkMu8",
        "outputId": "3bd4fa43-fabf-49dd-972e-b8ccf92b211a"
      },
      "execution_count": 4,
      "outputs": [
        {
          "output_type": "stream",
          "name": "stdout",
          "text": [
            "True\n"
          ]
        }
      ]
    },
    {
      "cell_type": "markdown",
      "source": [
        "# **Question 5**\n",
        "Given an integer array nums, find three numbers whose product is maximum and return the maximum product.\n",
        "\n",
        "**Example 1:**\n",
        "\n",
        "Input: nums = [1,2,3]\n",
        "\n",
        "Output: 6"
      ],
      "metadata": {
        "id": "o9112sqnkOlw"
      }
    },
    {
      "cell_type": "code",
      "source": [
        "def maxProduct(nums):\n",
        "  nums.sort()\n",
        "  return max(nums[-1]*nums[-2]*nums[-3],nums[0]*nums[1]*nums[-1])\n",
        "\n",
        "nums = [1,2,3]\n",
        "print(maxProduct(nums))"
      ],
      "metadata": {
        "colab": {
          "base_uri": "https://localhost:8080/"
        },
        "id": "T9SYnpMxkZii",
        "outputId": "14541dfc-cc32-429b-e654-bad3297e9452"
      },
      "execution_count": 7,
      "outputs": [
        {
          "output_type": "stream",
          "name": "stdout",
          "text": [
            "6\n"
          ]
        }
      ]
    },
    {
      "cell_type": "markdown",
      "source": [
        "# **Question 6**\n",
        "Given an array of integers nums which is sorted in ascending order, and an integer target,\n",
        "write a function to search target in nums. If target exists, then return its index. Otherwise,\n",
        "return -1.\n",
        "\n",
        "You must write an algorithm with O(log n) runtime complexity.\n",
        "\n",
        "Input: nums = [-1,0,3,5,9,12], target = 9\n",
        "\n",
        "Output: 4\n",
        "\n",
        "Explanation: 9 exists in nums and its index is 4"
      ],
      "metadata": {
        "id": "AJ80rmH8kaDH"
      }
    },
    {
      "cell_type": "code",
      "source": [
        "def targetFinder(nums,target):\n",
        "  if target in nums:\n",
        "    return nums.index(target)\n",
        "  else:\n",
        "    return -1\n",
        "\n",
        "nums = [-1,0,3,5,9,12]\n",
        "target = 9\n",
        "\n",
        "print(targetFinder(nums,target))"
      ],
      "metadata": {
        "colab": {
          "base_uri": "https://localhost:8080/"
        },
        "id": "hfGTYB9e8zDI",
        "outputId": "baa5ea35-cd2d-46ed-93fe-3c6538abca6e"
      },
      "execution_count": 20,
      "outputs": [
        {
          "output_type": "stream",
          "name": "stdout",
          "text": [
            "4\n"
          ]
        }
      ]
    },
    {
      "cell_type": "markdown",
      "source": [
        "# **Question 7**\n",
        "An array is monotonic if it is either monotone increasing or monotone decreasing.\n",
        "\n",
        "An array nums is monotone increasing if for all i <= j, nums[i] <= nums[j]. An array nums is\n",
        "monotone decreasing if for all i <= j, nums[i] >= nums[j].\n",
        "\n",
        "Given an integer array nums, return true if the given array is monotonic, or false otherwise.\n",
        "\n",
        "**Example 1:**\n",
        "\n",
        "Input: nums = [1,2,2,3]\n",
        "\n",
        "Output: true"
      ],
      "metadata": {
        "id": "GI3qM2OXkmGQ"
      }
    },
    {
      "cell_type": "code",
      "source": [
        "def isMonotonic(nums):\n",
        "\treturn nums == sorted(nums) or nums == sorted(nums, reverse=True)\n",
        " \n",
        "nums = [1,2,2,3]\n",
        "print(isMonotonic(nums))"
      ],
      "metadata": {
        "colab": {
          "base_uri": "https://localhost:8080/"
        },
        "id": "L3HAFzK-lAFY",
        "outputId": "187b7c40-a691-4f87-e2d3-5c11f77f5f80"
      },
      "execution_count": 10,
      "outputs": [
        {
          "output_type": "stream",
          "name": "stdout",
          "text": [
            "True\n"
          ]
        }
      ]
    },
    {
      "cell_type": "markdown",
      "source": [
        "# **Question 8**\n",
        "You are given an integer array nums and an integer k.\n",
        "\n",
        "In one operation, you can choose any index i where 0 <= i < nums.length and change nums[i] to nums[i] + x where x is an integer from the range [-k, k]. You can apply this operation at most once for each index i.\n",
        "\n",
        "The score of nums is the difference between the maximum and minimum elements in nums.\n",
        "\n",
        "Return the minimum score of nums after applying the mentioned operation at most once for each index in it.\n",
        "\n",
        "Example 1:\n",
        "\n",
        "Input: nums = [1], k = 0\n",
        "\n",
        "Output: 0\n",
        "\n",
        "Explanation: The score is max(nums) - min(nums) = 1 - 1 = 0."
      ],
      "metadata": {
        "id": "qXsdqikslA_e"
      }
    },
    {
      "cell_type": "code",
      "source": [
        "def findScore(nums,k):\n",
        "  \n",
        "  a=max((max(nums) - min(nums) - 2*k), 0)\n",
        "  return a\n",
        "\n",
        "nums = [1]\n",
        "k = 0\n",
        "findScore(nums,k)"
      ],
      "metadata": {
        "colab": {
          "base_uri": "https://localhost:8080/"
        },
        "id": "bj5XyPqHlQfP",
        "outputId": "0d76ffd8-2036-4621-9f69-bd6629f93ee2"
      },
      "execution_count": 17,
      "outputs": [
        {
          "output_type": "execute_result",
          "data": {
            "text/plain": [
              "0"
            ]
          },
          "metadata": {},
          "execution_count": 17
        }
      ]
    }
  ]
}