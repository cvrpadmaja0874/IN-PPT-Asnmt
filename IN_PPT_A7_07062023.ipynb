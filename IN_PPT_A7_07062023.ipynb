{
  "nbformat": 4,
  "nbformat_minor": 0,
  "metadata": {
    "colab": {
      "provenance": [],
      "authorship_tag": "ABX9TyNBjj3XoHaehrHzYswdLGeg",
      "include_colab_link": true
    },
    "kernelspec": {
      "name": "python3",
      "display_name": "Python 3"
    },
    "language_info": {
      "name": "python"
    }
  },
  "cells": [
    {
      "cell_type": "markdown",
      "metadata": {
        "id": "view-in-github",
        "colab_type": "text"
      },
      "source": [
        "<a href=\"https://colab.research.google.com/github/cvrpadmaja0874/IN-PPT-Asnmt/blob/main/IN_PPT_A7_07062023.ipynb\" target=\"_parent\"><img src=\"https://colab.research.google.com/assets/colab-badge.svg\" alt=\"Open In Colab\"/></a>"
      ]
    },
    {
      "cell_type": "markdown",
      "source": [
        "# **Question 1**\n",
        "\n",
        "Given two strings s and t, *determine if they are isomorphic*.\n",
        "\n",
        "Two strings s and t are isomorphic if the characters in s can be replaced to get t.\n",
        "\n",
        "All occurrences of a character must be replaced with another character while preserving the order of characters. No two characters may map to the same character, but a character may map to itself.\n",
        "\n",
        "**Example 1:**\n",
        "\n",
        "**Input:** s = \"egg\", t = \"add\"\n",
        "\n",
        "**Output:** true"
      ],
      "metadata": {
        "id": "1lq30URo-xzR"
      }
    },
    {
      "cell_type": "code",
      "source": [
        "def isIsomorphic(s,t):\n",
        "    dic = {}\n",
        "    if(len(s) != len(t)):\n",
        "        return False\n",
        "    if(len(set(s)) != len(set(t))):\n",
        "        return False\n",
        "    for i in range(len(s)):\n",
        "        if(s[i] not in dic):\n",
        "            dic[s[i]] = t[i]\n",
        "        elif(dic[s[i]] != t[i]):\n",
        "            \n",
        "            return False\n",
        "    return True\n",
        "\n",
        "\n",
        "s1 = input()\n",
        "s2 = input()\n",
        "print(isIsomorphic(s1,s2))"
      ],
      "metadata": {
        "colab": {
          "base_uri": "https://localhost:8080/"
        },
        "id": "K4yoHe0o-3q6",
        "outputId": "66174f6c-e4ba-4d08-eda7-be5b54404b8e"
      },
      "execution_count": null,
      "outputs": [
        {
          "output_type": "stream",
          "name": "stdout",
          "text": [
            "egg\n",
            "leg\n",
            "False\n"
          ]
        }
      ]
    },
    {
      "cell_type": "markdown",
      "source": [
        "# **Question 2**\n",
        "\n",
        "Given a string num which represents an integer, return true *if* num *is a **strobogrammatic number***.\n",
        "\n",
        "A **strobogrammatic number** is a number that looks the same when rotated 180 degrees (looked at upside down).\n",
        "\n",
        "**Example 1:**\n",
        "\n",
        "**Input:** num = \"69\"\n",
        "\n",
        "**Output:**\n",
        "\n",
        "true"
      ],
      "metadata": {
        "id": "OiT8JNFW-7Br"
      }
    },
    {
      "cell_type": "code",
      "source": [
        "def strobogrammatic_num(num): \n",
        "  maps = {(\"0\", \"0\"), (\"1\", \"1\"), (\"6\", \"9\"), (\"8\", \"8\"), (\"9\", \"6\")}\n",
        "  i,j = 0, len(num) - 1\n",
        "  while i <= j:\n",
        "    if (num[i], num[j]) not in maps:\n",
        "      return False\n",
        "    i += 1\n",
        "    j -= 1\n",
        "  return True\n",
        "\n",
        "\n",
        "# Driver Code\n",
        "num = \"101\"\n",
        "strobogrammatic_num(num)\n"
      ],
      "metadata": {
        "colab": {
          "base_uri": "https://localhost:8080/"
        },
        "id": "Cx2RpHMq_DLL",
        "outputId": "bca34c93-370b-47d1-a399-0e402215da04"
      },
      "execution_count": 11,
      "outputs": [
        {
          "output_type": "execute_result",
          "data": {
            "text/plain": [
              "True"
            ]
          },
          "metadata": {},
          "execution_count": 11
        }
      ]
    },
    {
      "cell_type": "markdown",
      "source": [
        "# **Question 3**\n",
        "\n",
        "Given two non-negative integers, num1 and num2 represented as string, return *the sum of* num1 *and* num2 *as a string*.\n",
        "\n",
        "You must solve the problem without using any built-in library for handling large integers (such as BigInteger). You must also not convert the inputs to integers directly.\n",
        "\n",
        "**Example 1:**\n",
        "\n",
        "**Input:** num1 = \"11\", num2 = \"123\"\n",
        "\n",
        "**Output:**\n",
        "\n",
        "\"134\""
      ],
      "metadata": {
        "id": "TZCaM3KM_DxE"
      }
    },
    {
      "cell_type": "code",
      "source": [
        "def addStrings(num1,num2):\n",
        "  i, j = len(num1) - 1, len(num2) - 1\n",
        "  ans = []\n",
        "  c = 0\n",
        "  while i >= 0 or j >= 0 or c:\n",
        "    a = 0 if i < 0 else int(num1[i])\n",
        "    b = 0 if j < 0 else int(num2[j])\n",
        "    c, v = divmod(a + b + c, 10)\n",
        "    ans.append(str(v))\n",
        "    i, j = i - 1, j - 1\n",
        "  return \"\".join(ans[::-1])\n",
        "\n",
        "#Driver Code\n",
        "num1 = \"11\", \n",
        "num2 = \"123\"\n",
        "addStrings(num1,num2)"
      ],
      "metadata": {
        "colab": {
          "base_uri": "https://localhost:8080/",
          "height": 35
        },
        "id": "bOA72FSD_XPX",
        "outputId": "6b893020-57ff-4fe7-a1f9-5dff1061c4f8"
      },
      "execution_count": null,
      "outputs": [
        {
          "output_type": "execute_result",
          "data": {
            "text/plain": [
              "'134'"
            ],
            "application/vnd.google.colaboratory.intrinsic+json": {
              "type": "string"
            }
          },
          "metadata": {},
          "execution_count": 25
        }
      ]
    },
    {
      "cell_type": "markdown",
      "source": [
        "# **Question 4**\n",
        "\n",
        "Given a string s, reverse the order of characters in each word within a sentence while still preserving whitespace and initial word order.\n",
        "\n",
        "**Example 1:**\n",
        "\n",
        "**Input:** s = \"Let's take LeetCode contest\"\n",
        "\n",
        "**Output:** \"s'teL ekat edoCteeL tsetnoc\""
      ],
      "metadata": {
        "id": "wrfdnIZc_X6w"
      }
    },
    {
      "cell_type": "code",
      "source": [
        "def reverseWords(s):\n",
        "  words=s.split()\n",
        "  ans = \"\"\n",
        "  for  i in range(len(words)):\n",
        "    ans += words[i][::-1]\n",
        "    if i != len(words)-1:\n",
        "      ans+=\" \"\n",
        "  return ans\n",
        "\n",
        "#Driver Code\n",
        "s = \"Let's take LeetCode contest\"\n",
        "reverseWords(s)"
      ],
      "metadata": {
        "colab": {
          "base_uri": "https://localhost:8080/",
          "height": 35
        },
        "id": "Yu_O43_r_e1H",
        "outputId": "df09dae0-aa4c-44c8-886c-4ccdc4bdef3a"
      },
      "execution_count": null,
      "outputs": [
        {
          "output_type": "execute_result",
          "data": {
            "text/plain": [
              "\"s'teL ekat edoCteeL tsetnoc\""
            ],
            "application/vnd.google.colaboratory.intrinsic+json": {
              "type": "string"
            }
          },
          "metadata": {},
          "execution_count": 10
        }
      ]
    },
    {
      "cell_type": "markdown",
      "source": [
        "# **Question 5**\n",
        "\n",
        "Given a string s and an integer k, reverse the first k characters for every 2k characters counting from the start of the string.\n",
        "\n",
        "If there are fewer than k characters left, reverse all of them. If there are less than 2k but greater than or equal to k characters, then reverse the first k characters and leave the other as original.\n",
        "\n",
        "**Example 1:**\n",
        "\n",
        "**Input:** s = \"abcdefg\", k = 2\n",
        "\n",
        "**Output:**\n",
        "\n",
        "\"bacdfeg\""
      ],
      "metadata": {
        "id": "XFX3g8pR_fT3"
      }
    },
    {
      "cell_type": "code",
      "source": [
        "def reverseString2(s,k):\n",
        "    a = list(s)\n",
        "    i = 0\n",
        "    while(i<len(s)):\n",
        "        a[i:i+k] = a[i:i+k][::-1]\n",
        "        i += 2*k\n",
        "    return ''.join(a)\n",
        "\n",
        "#Driver Code\n",
        "mystr = 'abcdefg'\n",
        "k = 2\n",
        "reverseString2(mystr,2)"
      ],
      "metadata": {
        "colab": {
          "base_uri": "https://localhost:8080/",
          "height": 35
        },
        "id": "J3g4K4wc_loq",
        "outputId": "86117bf4-ef36-4f86-b207-5935eb383423"
      },
      "execution_count": null,
      "outputs": [
        {
          "output_type": "execute_result",
          "data": {
            "text/plain": [
              "'bacdfeg'"
            ],
            "application/vnd.google.colaboratory.intrinsic+json": {
              "type": "string"
            }
          },
          "metadata": {},
          "execution_count": 9
        }
      ]
    },
    {
      "cell_type": "markdown",
      "source": [
        "# **Question 6**\n",
        "\n",
        "Given two strings s and goal, return true *if and only if* s *can become* goal *after some number of **shifts** on* s.\n",
        "\n",
        "A **shift** on s consists of moving the leftmost character of s to the rightmost position.\n",
        "\n",
        "- For example, if s = \"abcde\", then it will be \"bcdea\" after one shift.\n",
        "\n",
        "**Example 1:**\n",
        "\n",
        "**Input:** s = \"abcde\", goal = \"cdeab\"\n",
        "\n",
        "**Output:**\n",
        "\n",
        "true"
      ],
      "metadata": {
        "id": "3ffFRs15_mFm"
      }
    },
    {
      "cell_type": "code",
      "source": [
        "def rotateString(s, goal):\n",
        "                 \n",
        "  if s == goal:\n",
        "    return True\n",
        "\n",
        "  s, goal = [*s], [*goal] \n",
        "\n",
        "  for x in range(len(s)):\n",
        "    a = s[0]\n",
        "    s.pop(0); s.append(a)\n",
        "            \n",
        "    if s == goal:\n",
        "      return True\n",
        "            \n",
        "  return False\n",
        "\n",
        "#Driver Code\n",
        "s = \"abcde\"\n",
        "goal = \"cdeab\"\n",
        "rotateString(s, goal)"
      ],
      "metadata": {
        "colab": {
          "base_uri": "https://localhost:8080/"
        },
        "id": "Ew3i_MPC_tG0",
        "outputId": "255b1eb8-3ea1-4e45-84f6-5db9036cdef9"
      },
      "execution_count": null,
      "outputs": [
        {
          "output_type": "execute_result",
          "data": {
            "text/plain": [
              "True"
            ]
          },
          "metadata": {},
          "execution_count": 7
        }
      ]
    },
    {
      "cell_type": "markdown",
      "source": [
        "# **Question 7**\n",
        "\n",
        "Given two strings s and t, return true *if they are equal when both are typed into empty text editors*. '#' means a backspace character.\n",
        "\n",
        "Note that after backspacing an empty text, the text will continue empty.\n",
        "\n",
        "**Example 1:**\n",
        "\n",
        "**Input:** s = \"ab#c\", t = \"ad#c\"\n",
        "\n",
        "**Output:** true\n",
        "\n",
        "**Explanation:**\n",
        "\n",
        "Both s and t become \"ac\"."
      ],
      "metadata": {
        "id": "moAQ_PDC_tm3"
      }
    },
    {
      "cell_type": "code",
      "source": [
        "def backspaceCompare(s,t):\n",
        "  return parse(s) == parse(t)\n",
        "    \n",
        "def parse(x):\n",
        "  res = []\n",
        "  for c in x:\n",
        "    if c != \"#\":\n",
        "      res.append(c)\n",
        "    else:\n",
        "      if res: res.pop()\n",
        "  return res\n",
        "\n",
        "#Driver Code\n",
        "s = \"ab#c\"\n",
        "t = \"ad#c\"\n",
        "backspaceCompare(s,t)"
      ],
      "metadata": {
        "colab": {
          "base_uri": "https://localhost:8080/"
        },
        "id": "8wxqYtIy_2Eu",
        "outputId": "a79a60f0-27d7-4fec-d2e6-9b4ca2678aad"
      },
      "execution_count": null,
      "outputs": [
        {
          "output_type": "execute_result",
          "data": {
            "text/plain": [
              "True"
            ]
          },
          "metadata": {},
          "execution_count": 6
        }
      ]
    },
    {
      "cell_type": "markdown",
      "source": [
        "# **Question 8**\n",
        "\n",
        "You are given an array coordinates, coordinates[i] = [x, y], where [x, y] represents the coordinate of a point. Check if these points make a straight line in the XY plane.\n",
        "\n",
        "**Example 1:**\n",
        "\n",
        "**Input:** coordinates = [[1,2],[2,3],[3,4],[4,5],[5,6],[6,7]]\n",
        "\n",
        "**Output:** true"
      ],
      "metadata": {
        "id": "B0mMI6fs_2ku"
      }
    },
    {
      "cell_type": "code",
      "source": [
        "def checkStraightLine(coordinates):\n",
        "  x0, y0 = coordinates.pop()\n",
        "  x1, y1 = coordinates.pop()\n",
        "\n",
        "  for x, y in coordinates:\n",
        "    if (y1-y0)*(x-x0)-(y-y0)*(x1-x0): \n",
        "      return False    \n",
        "  return True\n",
        "\n",
        "#Driver Code\n",
        "coordinates = [[1,2],[2,3],[3,4],[4,5],[5,6],[6,7]]\n",
        "checkStraightLine(coordinates)"
      ],
      "metadata": {
        "colab": {
          "base_uri": "https://localhost:8080/"
        },
        "id": "bTMFodUMADlH",
        "outputId": "655d9e18-7f7b-4809-c054-50c9720df2ff"
      },
      "execution_count": null,
      "outputs": [
        {
          "output_type": "execute_result",
          "data": {
            "text/plain": [
              "True"
            ]
          },
          "metadata": {},
          "execution_count": 3
        }
      ]
    }
  ]
}